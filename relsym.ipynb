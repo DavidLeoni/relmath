{
 "cells": [
  {
   "cell_type": "code",
   "execution_count": 9,
   "metadata": {},
   "outputs": [],
   "source": [
    "from sympy import *\n",
    "init_printing(use_unicode=True)"
   ]
  },
  {
   "cell_type": "code",
   "execution_count": 10,
   "metadata": {},
   "outputs": [],
   "source": [
    "m = Matrix([1, 2, 3])"
   ]
  },
  {
   "cell_type": "code",
   "execution_count": 11,
   "metadata": {},
   "outputs": [],
   "source": [
    "m = Matrix([\"c\"])"
   ]
  },
  {
   "cell_type": "code",
   "execution_count": 12,
   "metadata": {},
   "outputs": [
    {
     "data": {
      "text/latex": [
       "$$\\left[\\begin{matrix}c\\end{matrix}\\right]$$"
      ],
      "text/plain": [
       "[c]"
      ]
     },
     "execution_count": 12,
     "metadata": {},
     "output_type": "execute_result"
    }
   ],
   "source": [
    "m"
   ]
  },
  {
   "cell_type": "code",
   "execution_count": 13,
   "metadata": {},
   "outputs": [
    {
     "data": {
      "text/latex": [
       "$$\\left[\\begin{matrix}c^{2}\\end{matrix}\\right]$$"
      ],
      "text/plain": [
       "⎡ 2⎤\n",
       "⎣c ⎦"
      ]
     },
     "execution_count": 13,
     "metadata": {},
     "output_type": "execute_result"
    }
   ],
   "source": [
    "m*m"
   ]
  },
  {
   "cell_type": "code",
   "execution_count": 14,
   "metadata": {},
   "outputs": [],
   "source": [
    "from sympy.abc import a,b,c"
   ]
  },
  {
   "cell_type": "code",
   "execution_count": 15,
   "metadata": {},
   "outputs": [
    {
     "data": {
      "text/latex": [
       "$$\\left[\\begin{matrix}c\\end{matrix}\\right]$$"
      ],
      "text/plain": [
       "[c]"
      ]
     },
     "execution_count": 15,
     "metadata": {},
     "output_type": "execute_result"
    }
   ],
   "source": [
    "m"
   ]
  },
  {
   "cell_type": "code",
   "execution_count": 16,
   "metadata": {},
   "outputs": [],
   "source": [
    "m = ImmutableMatrix([c,c**2])"
   ]
  },
  {
   "cell_type": "code",
   "execution_count": 17,
   "metadata": {},
   "outputs": [
    {
     "data": {
      "text/latex": [
       "$$\\left[\\begin{matrix}c\\\\c^{2}\\end{matrix}\\right]$$"
      ],
      "text/plain": [
       "⎡c ⎤\n",
       "⎢  ⎥\n",
       "⎢ 2⎥\n",
       "⎣c ⎦"
      ]
     },
     "execution_count": 17,
     "metadata": {},
     "output_type": "execute_result"
    }
   ],
   "source": [
    "m"
   ]
  },
  {
   "cell_type": "code",
   "execution_count": 18,
   "metadata": {},
   "outputs": [
    {
     "data": {
      "text/latex": [
       "$$\\left[\\begin{matrix}c^{2} & c^{3}\\\\c^{3} & c^{4}\\end{matrix}\\right]$$"
      ],
      "text/plain": [
       "⎡ 2   3⎤\n",
       "⎢c   c ⎥\n",
       "⎢      ⎥\n",
       "⎢ 3   4⎥\n",
       "⎣c   c ⎦"
      ]
     },
     "execution_count": 18,
     "metadata": {},
     "output_type": "execute_result"
    }
   ],
   "source": [
    "m*m.T"
   ]
  },
  {
   "cell_type": "code",
   "execution_count": 26,
   "metadata": {},
   "outputs": [
    {
     "data": {
      "text/latex": [
       "$$\\left[\\begin{matrix}c^{6} + c^{4} & c^{7} + c^{5}\\\\c^{7} + c^{5} & c^{8} + c^{6}\\end{matrix}\\right]$$"
      ],
      "text/plain": [
       "⎡ 6    4   7    5⎤\n",
       "⎢c  + c   c  + c ⎥\n",
       "⎢                ⎥\n",
       "⎢ 7    5   8    6⎥\n",
       "⎣c  + c   c  + c ⎦"
      ]
     },
     "execution_count": 26,
     "metadata": {},
     "output_type": "execute_result"
    }
   ],
   "source": [
    "(m*m.T)**2"
   ]
  },
  {
   "cell_type": "code",
   "execution_count": 28,
   "metadata": {},
   "outputs": [
    {
     "data": {
      "image/png": "[encoded data removed]",
      "text/latex": [
       "$$c$$"
      ],
      "text/plain": [
       "c"
      ]
     },
     "execution_count": 28,
     "metadata": {},
     "output_type": "execute_result"
    }
   ],
   "source": [
    "m[0,0]"
   ]
  },
  {
   "cell_type": "code",
   "execution_count": 20,
   "metadata": {},
   "outputs": [],
   "source": [
    "q = Matrix([[1,2],[3,4]])"
   ]
  },
  {
   "cell_type": "code",
   "execution_count": 21,
   "metadata": {},
   "outputs": [
    {
     "ename": "TypeError",
     "evalue": "unsupported operand type(s) for ^: 'MutableDenseMatrix' and 'int'",
     "output_type": "error",
     "traceback": [
      "\u001b[0;31m---------------------------------------------------------------------------\u001b[0m",
      "\u001b[0;31mTypeError\u001b[0m                                 Traceback (most recent call last)",
      "\u001b[0;32m<ipython-input-21-996c8669606a>\u001b[0m in \u001b[0;36m<module>\u001b[0;34m()\u001b[0m\n\u001b[0;32m----> 1\u001b[0;31m \u001b[0mq\u001b[0m\u001b[0;34m^\u001b[0m\u001b[0;36m2\u001b[0m\u001b[0;34m\u001b[0m\u001b[0m\n\u001b[0m",
      "\u001b[0;31mTypeError\u001b[0m: unsupported operand type(s) for ^: 'MutableDenseMatrix' and 'int'"
     ]
    }
   ],
   "source": [
    "q^2"
   ]
  },
  {
   "cell_type": "code",
   "execution_count": 25,
   "metadata": {},
   "outputs": [
    {
     "ename": "TypeError",
     "evalue": "unsupported operand type(s) for ^: 'MutableDenseMatrix' and 'int'",
     "output_type": "error",
     "traceback": [
      "\u001b[0;31m---------------------------------------------------------------------------\u001b[0m",
      "\u001b[0;31mTypeError\u001b[0m                                 Traceback (most recent call last)",
      "\u001b[0;32m<ipython-input-25-a9aa82ebe639>\u001b[0m in \u001b[0;36m<module>\u001b[0;34m()\u001b[0m\n\u001b[0;32m----> 1\u001b[0;31m \u001b[0mq\u001b[0m\u001b[0;34m^\u001b[0m\u001b[0;34m-\u001b[0m\u001b[0;36m1\u001b[0m\u001b[0;34m\u001b[0m\u001b[0m\n\u001b[0m",
      "\u001b[0;31mTypeError\u001b[0m: unsupported operand type(s) for ^: 'MutableDenseMatrix' and 'int'"
     ]
    }
   ],
   "source": [
    "q^-1"
   ]
  },
  {
   "cell_type": "code",
   "execution_count": 1,
   "metadata": {},
   "outputs": [
    {
     "ename": "NameError",
     "evalue": "name 'q' is not defined",
     "output_type": "error",
     "traceback": [
      "\u001b[0;31m---------------------------------------------------------------------------\u001b[0m",
      "\u001b[0;31mNameError\u001b[0m                                 Traceback (most recent call last)",
      "\u001b[0;32m<ipython-input-1-df05c56c4aa9>\u001b[0m in \u001b[0;36m<module>\u001b[0;34m()\u001b[0m\n\u001b[0;32m----> 1\u001b[0;31m \u001b[0mq\u001b[0m\u001b[0;34m**\u001b[0m\u001b[0;34m-\u001b[0m\u001b[0;36m1\u001b[0m\u001b[0;34m\u001b[0m\u001b[0m\n\u001b[0m",
      "\u001b[0;31mNameError\u001b[0m: name 'q' is not defined"
     ]
    }
   ],
   "source": [
    "q**-1"
   ]
  },
  {
   "cell_type": "code",
   "execution_count": null,
   "metadata": {},
   "outputs": [],
   "source": []
  },
  {
   "cell_type": "code",
   "execution_count": 4,
   "metadata": {},
   "outputs": [
    {
     "name": "stdout",
     "output_type": "stream",
     "text": [
      "M = \n",
      "[[9, 0, 6], [0, 5, 7]]\n",
      "~M = \n",
      "[[9, 0], [0, 5], [6, 7]]\n",
      "-M = \n",
      "[[-9, 0, -6], [0, -5, -7]]\n",
      "M@~M=\n",
      "[[36, 42], [42, 49]]\n",
      "MatMul(M, T(M))\n",
      "[[9, 0, 6], [0, 5, 7]]@~[[9, 0, 6], [0, 5, 7]]\n",
      "MatMul(M, T(M)).simp()\n",
      "[[36, 42], [42, 49]]\n",
      "<class 'relmath.MatMul'>\n",
      "[[9, 0, 6], [0, 5, 7]]\n",
      "[[9, 0], [0, 5], [6, 7]]\n",
      "['a', 'b', 'x', 'y', 'z', 'a', 'b']\n",
      "[{'source': 0, 'target': 2, 'value': 9}, {'source': 0, 'target': 3, 'value': 0}, {'source': 0, 'target': 4, 'value': 6}, {'source': 1, 'target': 2, 'value': 0}, {'source': 1, 'target': 3, 'value': 5}, {'source': 1, 'target': 4, 'value': 7}, {'source': 2, 'target': 5, 'value': 9}, {'source': 2, 'target': 6, 'value': 0}, {'source': 3, 'target': 5, 'value': 0}, {'source': 3, 'target': 6, 'value': 5}, {'source': 4, 'target': 5, 'value': 6}, {'source': 4, 'target': 6, 'value': 7}]\n",
      "[100, 100, 200, 200, 200, 300, 300]\n",
      "[0, 1, 0, 1, 2, 0, 1]\n"
     ]
    },
    {
     "data": {
      "application/vnd.jupyter.widget-view+json": {
       "model_id": "017e2b5397594322a60d59c62e905ec6",
       "version_major": 2,
       "version_minor": 0
      },
      "text/plain": [
       "Figure(fig_margin={'right': 60, 'top': 60, 'left': 60, 'bottom': 60}, layout=Layout(height='500px', width='960…"
      ]
     },
     "metadata": {},
     "output_type": "display_data"
    }
   ],
   "source": [
    "\n",
    "import numpy as np\n",
    "from bqplot import *\n",
    "from bqplot.marks import Graph\n",
    "from ipywidgets import Layout\n",
    "from relmath import * \n",
    "type(M)\n",
    "\n",
    "fig_layout = Layout(width='960px', height='500px')\n",
    "def disp(expr):\n",
    "    \n",
    "    print(type(expr))\n",
    "    if type(expr) is MatMul:\n",
    "        binop = expr\n",
    "        \n",
    "        left =  binop.left.simp()\n",
    "        right = binop.right.simp()\n",
    "        \n",
    "        if type(left) is not Rel:\n",
    "            raise ValueError(\"Can't simplify left operand to a Rel ! Found %s \" % left)\n",
    "\n",
    "        if type(right) is not Rel:\n",
    "            raise ValueError(\"Can't simplify right operand to a Rel ! Found %s \" % right)\n",
    "            \n",
    "        print(left)\n",
    "        print(right)\n",
    "            \n",
    "        node_data =  left.dom + left.cod + right.cod\n",
    "        print(node_data)\n",
    "\n",
    "        link_data = []\n",
    "        n = len(left.dom)\n",
    "        m = len(left.cod)\n",
    "        w = len(right.cod)\n",
    "        for i in range(n):\n",
    "            for j in range(m):\n",
    "                link_data.append({'source': i, 'target': n+j, 'value': left.g[i][j].val})\n",
    "\n",
    "        for i in range(m):\n",
    "            for j in range(w):\n",
    "                link_data.append({'source': n+i, 'target': n+m+j, 'value': right.g[i][j].val})\n",
    "                \n",
    "                \n",
    "        print(link_data)\n",
    "\n",
    "        xs = LinearScale()\n",
    "        ys = LinearScale()\n",
    "        lcs = ColorScale(scheme='Greens')\n",
    "        x = ([100] * n) + ([200]*m) + ([300]*w)\n",
    "        y = list(range(n)) + list(range(m)) + list(range(w))\n",
    "        print(x)\n",
    "        print(y)\n",
    "        graph = Graph(node_data=node_data, link_data=link_data, link_type='line',\n",
    "                      colors=['orange'], directed=False, \n",
    "                      scales={'x': xs, 'y': ys, 'link_color': lcs}, \n",
    "                      x=x, y=y,  color=np.random.rand(len(node_data)))\n",
    "        return Figure(marks=[graph], layout=fig_layout)    \n",
    "        \n",
    "    \n",
    "    elif type(expr) is Rel:\n",
    "        node_data = expr.dom() + expr.cod()\n",
    "        #print(node_data)\n",
    "\n",
    "        link_data = []\n",
    "        for i in range(len(expr.dom)):\n",
    "            for j in range(len(expr.cod)):\n",
    "                link_data.append({'source': i, 'target': i+j, 'value': expr.g[i][j].val})\n",
    "\n",
    "        #print(link_data)\n",
    "\n",
    "        xs = LinearScale()\n",
    "        ys = LinearScale()\n",
    "        lcs = ColorScale(scheme='Greens')\n",
    "        x = ([100] * len(expr.dom)) + ([200]*len(expr.cod))\n",
    "        y = list(range(len(expr.dom))) + list(range(len(expr.cod)))\n",
    "        #print(x)\n",
    "        #print(y)\n",
    "        graph = Graph(node_data=node_data, link_data=link_data, link_type='line',\n",
    "                      colors=['orange'], directed=False, \n",
    "                      scales={'x': xs, 'y': ys, 'link_color': lcs}, \n",
    "                      x=x, y=y,  color=np.random.rand(len(node_data)))\n",
    "        return Figure(marks=[graph], layout=fig_layout)    \n",
    "    else:\n",
    "        raise ValueError(\"not supported type: %s\" % type(expr) )\n",
    "    \n",
    "disp(E)    "
   ]
  },
  {
   "cell_type": "code",
   "execution_count": null,
   "metadata": {},
   "outputs": [],
   "source": []
  },
  {
   "cell_type": "code",
   "execution_count": 5,
   "metadata": {},
   "outputs": [],
   "source": [
    "X = MatrixSymbol('X', 3, 4)"
   ]
  },
  {
   "cell_type": "code",
   "execution_count": 6,
   "metadata": {},
   "outputs": [
    {
     "data": {
      "image/png": "[encoded data removed]",
      "text/latex": [
       "$$X$$"
      ],
      "text/plain": [
       "X"
      ]
     },
     "execution_count": 6,
     "metadata": {},
     "output_type": "execute_result"
    }
   ],
   "source": [
    "X"
   ]
  },
  {
   "cell_type": "code",
   "execution_count": 35,
   "metadata": {},
   "outputs": [
    {
     "data": {
      "image/png": "[encoded data removed]",
      "text/latex": [
       "$$X_{0, 0}$$"
      ],
      "text/plain": [
       "X₀₀"
      ]
     },
     "execution_count": 35,
     "metadata": {},
     "output_type": "execute_result"
    }
   ],
   "source": [
    "X[0,0]"
   ]
  },
  {
   "cell_type": "code",
   "execution_count": 36,
   "metadata": {},
   "outputs": [
    {
     "data": {
      "text/latex": [
       "$$\\left[\\begin{matrix}c\\\\c^{2}\\end{matrix}\\right]$$"
      ],
      "text/plain": [
       "⎡c ⎤\n",
       "⎢  ⎥\n",
       "⎢ 2⎥\n",
       "⎣c ⎦"
      ]
     },
     "execution_count": 36,
     "metadata": {},
     "output_type": "execute_result"
    }
   ],
   "source": [
    "m"
   ]
  },
  {
   "cell_type": "code",
   "execution_count": 31,
   "metadata": {},
   "outputs": [
    {
     "data": {
      "text/plain": [
       "\"ImmutableDenseMatrix([[Pow(Symbol('c'), Integer(2)), Pow(Symbol('c'), Integer(3))], [Pow(Symbol('c'), Integer(3)), Pow(Symbol('c'), Integer(4))]])\""
      ]
     },
     "execution_count": 31,
     "metadata": {},
     "output_type": "execute_result"
    }
   ],
   "source": [
    "srepr(m*m)"
   ]
  },
  {
   "cell_type": "code",
   "execution_count": 41,
   "metadata": {},
   "outputs": [
    {
     "data": {
      "text/latex": [
       "$$\\left[\\begin{matrix}c\\\\c^{2}\\end{matrix}\\right] \\left[\\begin{matrix}c & c^{2}\\end{matrix}\\right]$$"
      ],
      "text/plain": [
       "⎡c ⎤        \n",
       "⎢  ⎥ ⎡    2⎤\n",
       "⎢ 2⎥⋅⎣c  c ⎦\n",
       "⎣c ⎦        "
      ]
     },
     "execution_count": 41,
     "metadata": {},
     "output_type": "execute_result"
    }
   ],
   "source": [
    "sympify(\"m * m.T\", locals={'m':m}, evaluate=False)"
   ]
  },
  {
   "cell_type": "code",
   "execution_count": 39,
   "metadata": {},
   "outputs": [
    {
     "name": "stdout",
     "output_type": "stream",
     "text": [
      "Help on function sympify in module sympy.core.sympify:\n",
      "\n",
      "sympify(a, locals=None, convert_xor=True, strict=False, rational=False, evaluate=None)\n",
      "    Converts an arbitrary expression to a type that can be used inside SymPy.\n",
      "    \n",
      "    For example, it will convert Python ints into instances of sympy.Integer,\n",
      "    floats into instances of sympy.Float, etc. It is also able to coerce symbolic\n",
      "    expressions which inherit from Basic. This can be useful in cooperation\n",
      "    with SAGE.\n",
      "    \n",
      "    It currently accepts as arguments:\n",
      "       - any object defined in sympy\n",
      "       - standard numeric python types: int, long, float, Decimal\n",
      "       - strings (like \"0.09\" or \"2e-19\")\n",
      "       - booleans, including ``None`` (will leave ``None`` unchanged)\n",
      "       - lists, sets or tuples containing any of the above\n",
      "    \n",
      "    .. warning::\n",
      "        Note that this function uses ``eval``, and thus shouldn't be used on\n",
      "        unsanitized input.\n",
      "    \n",
      "    If the argument is already a type that SymPy understands, it will do\n",
      "    nothing but return that value. This can be used at the beginning of a\n",
      "    function to ensure you are working with the correct type.\n",
      "    \n",
      "    >>> from sympy import sympify\n",
      "    \n",
      "    >>> sympify(2).is_integer\n",
      "    True\n",
      "    >>> sympify(2).is_real\n",
      "    True\n",
      "    \n",
      "    >>> sympify(2.0).is_real\n",
      "    True\n",
      "    >>> sympify(\"2.0\").is_real\n",
      "    True\n",
      "    >>> sympify(\"2e-45\").is_real\n",
      "    True\n",
      "    \n",
      "    If the expression could not be converted, a SympifyError is raised.\n",
      "    \n",
      "    >>> sympify(\"x***2\")\n",
      "    Traceback (most recent call last):\n",
      "    ...\n",
      "    SympifyError: SympifyError: \"could not parse u'x***2'\"\n",
      "    \n",
      "    Locals\n",
      "    ------\n",
      "    \n",
      "    The sympification happens with access to everything that is loaded\n",
      "    by ``from sympy import *``; anything used in a string that is not\n",
      "    defined by that import will be converted to a symbol. In the following,\n",
      "    the ``bitcount`` function is treated as a symbol and the ``O`` is\n",
      "    interpreted as the Order object (used with series) and it raises\n",
      "    an error when used improperly:\n",
      "    \n",
      "    >>> s = 'bitcount(42)'\n",
      "    >>> sympify(s)\n",
      "    bitcount(42)\n",
      "    >>> sympify(\"O(x)\")\n",
      "    O(x)\n",
      "    >>> sympify(\"O + 1\")\n",
      "    Traceback (most recent call last):\n",
      "    ...\n",
      "    TypeError: unbound method...\n",
      "    \n",
      "    In order to have ``bitcount`` be recognized it can be imported into a\n",
      "    namespace dictionary and passed as locals:\n",
      "    \n",
      "    >>> from sympy.core.compatibility import exec_\n",
      "    >>> ns = {}\n",
      "    >>> exec_('from sympy.core.evalf import bitcount', ns)\n",
      "    >>> sympify(s, locals=ns)\n",
      "    6\n",
      "    \n",
      "    In order to have the ``O`` interpreted as a Symbol, identify it as such\n",
      "    in the namespace dictionary. This can be done in a variety of ways; all\n",
      "    three of the following are possibilities:\n",
      "    \n",
      "    >>> from sympy import Symbol\n",
      "    >>> ns[\"O\"] = Symbol(\"O\")  # method 1\n",
      "    >>> exec_('from sympy.abc import O', ns)  # method 2\n",
      "    >>> ns.update(dict(O=Symbol(\"O\")))  # method 3\n",
      "    >>> sympify(\"O + 1\", locals=ns)\n",
      "    O + 1\n",
      "    \n",
      "    If you want *all* single-letter and Greek-letter variables to be symbols\n",
      "    then you can use the clashing-symbols dictionaries that have been defined\n",
      "    there as private variables: _clash1 (single-letter variables), _clash2\n",
      "    (the multi-letter Greek names) or _clash (both single and multi-letter\n",
      "    names that are defined in abc).\n",
      "    \n",
      "    >>> from sympy.abc import _clash1\n",
      "    >>> _clash1\n",
      "    {'C': C, 'E': E, 'I': I, 'N': N, 'O': O, 'Q': Q, 'S': S}\n",
      "    >>> sympify('I & Q', _clash1)\n",
      "    I & Q\n",
      "    \n",
      "    Strict\n",
      "    ------\n",
      "    \n",
      "    If the option ``strict`` is set to ``True``, only the types for which an\n",
      "    explicit conversion has been defined are converted. In the other\n",
      "    cases, a SympifyError is raised.\n",
      "    \n",
      "    >>> print(sympify(None))\n",
      "    None\n",
      "    >>> sympify(None, strict=True)\n",
      "    Traceback (most recent call last):\n",
      "    ...\n",
      "    SympifyError: SympifyError: None\n",
      "    \n",
      "    Evaluation\n",
      "    ----------\n",
      "    \n",
      "    If the option ``evaluate`` is set to ``False``, then arithmetic and\n",
      "    operators will be converted into their SymPy equivalents and the\n",
      "    ``evaluate=False`` option will be added. Nested ``Add`` or ``Mul`` will\n",
      "    be denested first. This is done via an AST transformation that replaces\n",
      "    operators with their SymPy equivalents, so if an operand redefines any\n",
      "    of those operations, the redefined operators will not be used.\n",
      "    \n",
      "    >>> sympify('2**2 / 3 + 5')\n",
      "    19/3\n",
      "    >>> sympify('2**2 / 3 + 5', evaluate=False)\n",
      "    2**2/3 + 5\n",
      "    \n",
      "    Extending\n",
      "    ---------\n",
      "    \n",
      "    To extend ``sympify`` to convert custom objects (not derived from ``Basic``),\n",
      "    just define a ``_sympy_`` method to your class. You can do that even to\n",
      "    classes that you do not own by subclassing or adding the method at runtime.\n",
      "    \n",
      "    >>> from sympy import Matrix\n",
      "    >>> class MyList1(object):\n",
      "    ...     def __iter__(self):\n",
      "    ...         yield 1\n",
      "    ...         yield 2\n",
      "    ...         return\n",
      "    ...     def __getitem__(self, i): return list(self)[i]\n",
      "    ...     def _sympy_(self): return Matrix(self)\n",
      "    >>> sympify(MyList1())\n",
      "    Matrix([\n",
      "    [1],\n",
      "    [2]])\n",
      "    \n",
      "    If you do not have control over the class definition you could also use the\n",
      "    ``converter`` global dictionary. The key is the class and the value is a\n",
      "    function that takes a single argument and returns the desired SymPy\n",
      "    object, e.g. ``converter[MyList] = lambda x: Matrix(x)``.\n",
      "    \n",
      "    >>> class MyList2(object):   # XXX Do not do this if you control the class!\n",
      "    ...     def __iter__(self):  #     Use _sympy_!\n",
      "    ...         yield 1\n",
      "    ...         yield 2\n",
      "    ...         return\n",
      "    ...     def __getitem__(self, i): return list(self)[i]\n",
      "    >>> from sympy.core.sympify import converter\n",
      "    >>> converter[MyList2] = lambda x: Matrix(x)\n",
      "    >>> sympify(MyList2())\n",
      "    Matrix([\n",
      "    [1],\n",
      "    [2]])\n",
      "    \n",
      "    Notes\n",
      "    =====\n",
      "    \n",
      "    Sometimes autosimplification during sympification results in expressions\n",
      "    that are very different in structure than what was entered. Until such\n",
      "    autosimplification is no longer done, the ``kernS`` function might be of\n",
      "    some use. In the example below you can see how an expression reduces to\n",
      "    -1 by autosimplification, but does not do so when ``kernS`` is used.\n",
      "    \n",
      "    >>> from sympy.core.sympify import kernS\n",
      "    >>> from sympy.abc import x\n",
      "    >>> -2*(-(-x + 1/x)/(x*(x - 1/x)**2) - 1/(x*(x - 1/x))) - 1\n",
      "    -1\n",
      "    >>> s = '-2*(-(-x + 1/x)/(x*(x - 1/x)**2) - 1/(x*(x - 1/x))) - 1'\n",
      "    >>> sympify(s)\n",
      "    -1\n",
      "    >>> kernS(s)\n",
      "    -2*(-(-x + 1/x)/(x*(x - 1/x)**2) - 1/(x*(x - 1/x))) - 1\n",
      "\n"
     ]
    }
   ],
   "source": [
    "help(sympify)"
   ]
  },
  {
   "cell_type": "code",
   "execution_count": 44,
   "metadata": {},
   "outputs": [
    {
     "data": {
      "text/latex": [
       "$$\\left[\\begin{matrix}s\\\\3\\end{matrix}\\right]$$"
      ],
      "text/plain": [
       "⎡s⎤\n",
       "⎢ ⎥\n",
       "⎣3⎦"
      ]
     },
     "execution_count": 44,
     "metadata": {},
     "output_type": "execute_result"
    }
   ],
   "source": [
    "Matrix(['s',3])"
   ]
  },
  {
   "cell_type": "code",
   "execution_count": 43,
   "metadata": {},
   "outputs": [
    {
     "data": {
      "text/latex": [
       "$$\\left[\\begin{matrix}s\\\\3\\end{matrix}\\right]$$"
      ],
      "text/plain": [
       "⎡s⎤\n",
       "⎢ ⎥\n",
       "⎣3⎦"
      ]
     },
     "execution_count": 43,
     "metadata": {},
     "output_type": "execute_result"
    }
   ],
   "source": [
    "p"
   ]
  },
  {
   "cell_type": "code",
   "execution_count": 45,
   "metadata": {},
   "outputs": [
    {
     "data": {
      "text/latex": [
       "$$\\left[\\begin{matrix}s\\\\\\left \\{ a : b\\right \\}\\end{matrix}\\right]$$"
      ],
      "text/plain": [
       "⎡  s   ⎤\n",
       "⎢      ⎥\n",
       "⎣{a: b}⎦"
      ]
     },
     "execution_count": 45,
     "metadata": {},
     "output_type": "execute_result"
    }
   ],
   "source": [
    "Matrix(['s',{'a':'b'}])"
   ]
  },
  {
   "cell_type": "code",
   "execution_count": 54,
   "metadata": {},
   "outputs": [
    {
     "data": {
      "text/latex": [
       "$$\\left[\\begin{matrix}s\\\\\\left [ a\\right ]\\end{matrix}\\right]$$"
      ],
      "text/plain": [
       "⎡ s ⎤\n",
       "⎢   ⎥\n",
       "⎣[a]⎦"
      ]
     },
     "execution_count": 54,
     "metadata": {},
     "output_type": "execute_result"
    }
   ],
   "source": [
    "p = Matrix(['s',['a']])\n",
    "p"
   ]
  },
  {
   "cell_type": "code",
   "execution_count": 56,
   "metadata": {},
   "outputs": [
    {
     "ename": "TypeError",
     "evalue": "can only concatenate list (not \"Symbol\") to list",
     "output_type": "error",
     "traceback": [
      "\u001b[0;31m---------------------------------------------------------------------------\u001b[0m",
      "\u001b[0;31mTypeError\u001b[0m                                 Traceback (most recent call last)",
      "\u001b[0;32m<ipython-input-56-a01113d62717>\u001b[0m in \u001b[0;36m<module>\u001b[0;34m()\u001b[0m\n\u001b[0;32m----> 1\u001b[0;31m \u001b[0mp\u001b[0m \u001b[0;34m+=\u001b[0m \u001b[0mMatrix\u001b[0m\u001b[0;34m(\u001b[0m\u001b[0;34m[\u001b[0m\u001b[0;34m\"c\"\u001b[0m\u001b[0;34m,\u001b[0m\u001b[0;34m\"d\"\u001b[0m\u001b[0;34m]\u001b[0m\u001b[0;34m)\u001b[0m\u001b[0;34m\u001b[0m\u001b[0m\n\u001b[0m",
      "\u001b[0;32m~/.local/lib/python3.5/site-packages/sympy/core/decorators.py\u001b[0m in \u001b[0;36mbinary_op_wrapper\u001b[0;34m(self, other)\u001b[0m\n\u001b[1;32m    130\u001b[0m                     \u001b[0;32melse\u001b[0m\u001b[0;34m:\u001b[0m\u001b[0;34m\u001b[0m\u001b[0m\n\u001b[1;32m    131\u001b[0m                         \u001b[0;32mreturn\u001b[0m \u001b[0mf\u001b[0m\u001b[0;34m(\u001b[0m\u001b[0mself\u001b[0m\u001b[0;34m)\u001b[0m\u001b[0;34m\u001b[0m\u001b[0m\n\u001b[0;32m--> 132\u001b[0;31m             \u001b[0;32mreturn\u001b[0m \u001b[0mfunc\u001b[0m\u001b[0;34m(\u001b[0m\u001b[0mself\u001b[0m\u001b[0;34m,\u001b[0m \u001b[0mother\u001b[0m\u001b[0;34m)\u001b[0m\u001b[0;34m\u001b[0m\u001b[0m\n\u001b[0m\u001b[1;32m    133\u001b[0m         \u001b[0;32mreturn\u001b[0m \u001b[0mbinary_op_wrapper\u001b[0m\u001b[0;34m\u001b[0m\u001b[0m\n\u001b[1;32m    134\u001b[0m     \u001b[0;32mreturn\u001b[0m \u001b[0mpriority_decorator\u001b[0m\u001b[0;34m\u001b[0m\u001b[0m\n",
      "\u001b[0;32m~/.local/lib/python3.5/site-packages/sympy/matrices/common.py\u001b[0m in \u001b[0;36m__add__\u001b[0;34m(self, other)\u001b[0m\n\u001b[1;32m   1969\u001b[0m             \u001b[0;32mif\u001b[0m \u001b[0ma\u001b[0m\u001b[0;34m.\u001b[0m\u001b[0m__class__\u001b[0m \u001b[0;34m!=\u001b[0m \u001b[0mclassof\u001b[0m\u001b[0;34m(\u001b[0m\u001b[0ma\u001b[0m\u001b[0;34m,\u001b[0m \u001b[0mb\u001b[0m\u001b[0;34m)\u001b[0m\u001b[0;34m:\u001b[0m\u001b[0;34m\u001b[0m\u001b[0m\n\u001b[1;32m   1970\u001b[0m                 \u001b[0mb\u001b[0m\u001b[0;34m,\u001b[0m \u001b[0ma\u001b[0m \u001b[0;34m=\u001b[0m \u001b[0ma\u001b[0m\u001b[0;34m,\u001b[0m \u001b[0mb\u001b[0m\u001b[0;34m\u001b[0m\u001b[0m\n\u001b[0;32m-> 1971\u001b[0;31m             \u001b[0;32mreturn\u001b[0m \u001b[0ma\u001b[0m\u001b[0;34m.\u001b[0m\u001b[0m_eval_add\u001b[0m\u001b[0;34m(\u001b[0m\u001b[0mb\u001b[0m\u001b[0;34m)\u001b[0m\u001b[0;34m\u001b[0m\u001b[0m\n\u001b[0m\u001b[1;32m   1972\u001b[0m         \u001b[0;31m# Matrix-like objects can be passed to CommonMatrix routines directly.\u001b[0m\u001b[0;34m\u001b[0m\u001b[0;34m\u001b[0m\u001b[0m\n\u001b[1;32m   1973\u001b[0m         \u001b[0;32mif\u001b[0m \u001b[0mgetattr\u001b[0m\u001b[0;34m(\u001b[0m\u001b[0mother\u001b[0m\u001b[0;34m,\u001b[0m \u001b[0;34m'is_MatrixLike'\u001b[0m\u001b[0;34m,\u001b[0m \u001b[0;32mFalse\u001b[0m\u001b[0;34m)\u001b[0m\u001b[0;34m:\u001b[0m\u001b[0;34m\u001b[0m\u001b[0m\n",
      "\u001b[0;32m~/.local/lib/python3.5/site-packages/sympy/matrices/dense.py\u001b[0m in \u001b[0;36m_eval_add\u001b[0;34m(self, other)\u001b[0m\n\u001b[1;32m    157\u001b[0m         \u001b[0;31m# we assume both arguments are dense matrices since\u001b[0m\u001b[0;34m\u001b[0m\u001b[0;34m\u001b[0m\u001b[0m\n\u001b[1;32m    158\u001b[0m         \u001b[0;31m# sparse matrices have a higher priority\u001b[0m\u001b[0;34m\u001b[0m\u001b[0;34m\u001b[0m\u001b[0m\n\u001b[0;32m--> 159\u001b[0;31m         \u001b[0mmat\u001b[0m \u001b[0;34m=\u001b[0m \u001b[0;34m[\u001b[0m\u001b[0ma\u001b[0m \u001b[0;34m+\u001b[0m \u001b[0mb\u001b[0m \u001b[0;32mfor\u001b[0m \u001b[0ma\u001b[0m\u001b[0;34m,\u001b[0m\u001b[0mb\u001b[0m \u001b[0;32min\u001b[0m \u001b[0mzip\u001b[0m\u001b[0;34m(\u001b[0m\u001b[0mself\u001b[0m\u001b[0;34m.\u001b[0m\u001b[0m_mat\u001b[0m\u001b[0;34m,\u001b[0m \u001b[0mother\u001b[0m\u001b[0;34m.\u001b[0m\u001b[0m_mat\u001b[0m\u001b[0;34m)\u001b[0m\u001b[0;34m]\u001b[0m\u001b[0;34m\u001b[0m\u001b[0m\n\u001b[0m\u001b[1;32m    160\u001b[0m         \u001b[0;32mreturn\u001b[0m \u001b[0mclassof\u001b[0m\u001b[0;34m(\u001b[0m\u001b[0mself\u001b[0m\u001b[0;34m,\u001b[0m \u001b[0mother\u001b[0m\u001b[0;34m)\u001b[0m\u001b[0;34m.\u001b[0m\u001b[0m_new\u001b[0m\u001b[0;34m(\u001b[0m\u001b[0mself\u001b[0m\u001b[0;34m.\u001b[0m\u001b[0mrows\u001b[0m\u001b[0;34m,\u001b[0m \u001b[0mself\u001b[0m\u001b[0;34m.\u001b[0m\u001b[0mcols\u001b[0m\u001b[0;34m,\u001b[0m \u001b[0mmat\u001b[0m\u001b[0;34m,\u001b[0m \u001b[0mcopy\u001b[0m\u001b[0;34m=\u001b[0m\u001b[0;32mFalse\u001b[0m\u001b[0;34m)\u001b[0m\u001b[0;34m\u001b[0m\u001b[0m\n\u001b[1;32m    161\u001b[0m \u001b[0;34m\u001b[0m\u001b[0m\n",
      "\u001b[0;32m~/.local/lib/python3.5/site-packages/sympy/matrices/dense.py\u001b[0m in \u001b[0;36m<listcomp>\u001b[0;34m(.0)\u001b[0m\n\u001b[1;32m    157\u001b[0m         \u001b[0;31m# we assume both arguments are dense matrices since\u001b[0m\u001b[0;34m\u001b[0m\u001b[0;34m\u001b[0m\u001b[0m\n\u001b[1;32m    158\u001b[0m         \u001b[0;31m# sparse matrices have a higher priority\u001b[0m\u001b[0;34m\u001b[0m\u001b[0;34m\u001b[0m\u001b[0m\n\u001b[0;32m--> 159\u001b[0;31m         \u001b[0mmat\u001b[0m \u001b[0;34m=\u001b[0m \u001b[0;34m[\u001b[0m\u001b[0ma\u001b[0m \u001b[0;34m+\u001b[0m \u001b[0mb\u001b[0m \u001b[0;32mfor\u001b[0m \u001b[0ma\u001b[0m\u001b[0;34m,\u001b[0m\u001b[0mb\u001b[0m \u001b[0;32min\u001b[0m \u001b[0mzip\u001b[0m\u001b[0;34m(\u001b[0m\u001b[0mself\u001b[0m\u001b[0;34m.\u001b[0m\u001b[0m_mat\u001b[0m\u001b[0;34m,\u001b[0m \u001b[0mother\u001b[0m\u001b[0;34m.\u001b[0m\u001b[0m_mat\u001b[0m\u001b[0;34m)\u001b[0m\u001b[0;34m]\u001b[0m\u001b[0;34m\u001b[0m\u001b[0m\n\u001b[0m\u001b[1;32m    160\u001b[0m         \u001b[0;32mreturn\u001b[0m \u001b[0mclassof\u001b[0m\u001b[0;34m(\u001b[0m\u001b[0mself\u001b[0m\u001b[0;34m,\u001b[0m \u001b[0mother\u001b[0m\u001b[0;34m)\u001b[0m\u001b[0;34m.\u001b[0m\u001b[0m_new\u001b[0m\u001b[0;34m(\u001b[0m\u001b[0mself\u001b[0m\u001b[0;34m.\u001b[0m\u001b[0mrows\u001b[0m\u001b[0;34m,\u001b[0m \u001b[0mself\u001b[0m\u001b[0;34m.\u001b[0m\u001b[0mcols\u001b[0m\u001b[0;34m,\u001b[0m \u001b[0mmat\u001b[0m\u001b[0;34m,\u001b[0m \u001b[0mcopy\u001b[0m\u001b[0;34m=\u001b[0m\u001b[0;32mFalse\u001b[0m\u001b[0;34m)\u001b[0m\u001b[0;34m\u001b[0m\u001b[0m\n\u001b[1;32m    161\u001b[0m \u001b[0;34m\u001b[0m\u001b[0m\n",
      "\u001b[0;31mTypeError\u001b[0m: can only concatenate list (not \"Symbol\") to list"
     ]
    }
   ],
   "source": [
    "p += Matrix([\"c\",\"d\"])"
   ]
  },
  {
   "cell_type": "code",
   "execution_count": 51,
   "metadata": {},
   "outputs": [
    {
     "data": {
      "text/latex": [
       "$$\\left[\\begin{matrix}\\left [ s\\right ] & r\\\\a & e\\end{matrix}\\right]$$"
      ],
      "text/plain": [
       "⎡[s]  r⎤\n",
       "⎢      ⎥\n",
       "⎣ a   e⎦"
      ]
     },
     "execution_count": 51,
     "metadata": {},
     "output_type": "execute_result"
    }
   ],
   "source": [
    "p = Matrix([[['s'],'r'],['a','e']])"
   ]
  },
  {
   "cell_type": "code",
   "execution_count": 58,
   "metadata": {},
   "outputs": [],
   "source": [
    "p.c = 2"
   ]
  },
  {
   "cell_type": "code",
   "execution_count": 59,
   "metadata": {},
   "outputs": [
    {
     "data": {
      "text/latex": [
       "$$\\left[\\begin{matrix}s\\\\\\left [ a\\right ]\\end{matrix}\\right]$$"
      ],
      "text/plain": [
       "⎡ s ⎤\n",
       "⎢   ⎥\n",
       "⎣[a]⎦"
      ]
     },
     "execution_count": 59,
     "metadata": {},
     "output_type": "execute_result"
    }
   ],
   "source": [
    "p"
   ]
  },
  {
   "cell_type": "code",
   "execution_count": 60,
   "metadata": {},
   "outputs": [
    {
     "data": {
      "image/png": "[encoded data removed]",
      "text/latex": [
       "$$2$$"
      ],
      "text/plain": [
       "2"
      ]
     },
     "execution_count": 60,
     "metadata": {},
     "output_type": "execute_result"
    }
   ],
   "source": [
    "p.c"
   ]
  },
  {
   "cell_type": "code",
   "execution_count": 61,
   "metadata": {},
   "outputs": [],
   "source": [
    "p.afdsf = 2"
   ]
  },
  {
   "cell_type": "code",
   "execution_count": 151,
   "metadata": {},
   "outputs": [],
   "source": [
    "m = ImmutableMatrix([2,3])"
   ]
  },
  {
   "cell_type": "code",
   "execution_count": 317,
   "metadata": {},
   "outputs": [
    {
     "data": {
      "text/plain": [
       "False"
      ]
     },
     "execution_count": 317,
     "metadata": {},
     "output_type": "execute_result"
    }
   ],
   "source": [
    "isinstance(4, float)"
   ]
  },
  {
   "cell_type": "code",
   "execution_count": 313,
   "metadata": {},
   "outputs": [],
   "source": [
    "from sympy.core.singleton import S\n",
    "\n",
    "    \n",
    "    \n",
    "        \n",
    "class Dioid(AtomicExpr):\n",
    "    \n",
    "    is_number = True\n",
    "    \n",
    "    @cacheit\n",
    "    def __new__(cls,*args):\n",
    "        tmp = []\n",
    "        for a in args:\n",
    "            a = sympify(a,strict=True)\n",
    "            if type(a) is cls:\n",
    "                tmp.extend(a.args)\n",
    "            else:\n",
    "                tmp.append(a)\n",
    "        return super().__new__(cls,*tmp)    \n",
    "        \n",
    "    def __mul__(self, other):\n",
    "        return self._eval_mul(other)\n",
    "    \n",
    "    @decorators._sympifyit('other', NotImplemented)    \n",
    "    def __add__(self, other):\n",
    "        return self._eval_add(other)\n",
    "\n",
    "    def __neg__(self):\n",
    "        return self._eval_neg()\n",
    "\n",
    "    def s(self):\n",
    "        \"\"\" The set of discourse \"\"\"\n",
    "        raise NotImplementedError(\"IMPLEMENT ME!\")    \n",
    "                \n",
    "    def zero(self):\n",
    "        raise NotImplementedError(\"IMPLEMENT ME!\")    \n",
    "        \n",
    "    def one(self):\n",
    "        raise NotImplementedError(\"IMPLEMENT ME!\")    \n",
    "        \n",
    "    def __str__(self):\n",
    "        \n",
    "        return \"%s(%s)\" % (self.__class__.__name__, str(self.args[0]))\n",
    "    \n",
    "    def __repr__(self):\n",
    "        return self.__str__()    \n",
    "\n",
    "    def _eval_neg(self, other):\n",
    "        \"\"\" NOTE: in a dioid, negation is _not_ mandatory. See page 7 of Graphs, Dioids and Semirings book\n",
    "        \"\"\"\n",
    "        raise NotImplemented(\"Not available for this dioid !\")\n",
    "        \n",
    "        raise NotImplementedError(\"\")\n",
    "        \n",
    "    def _eval_add(self, other):\n",
    "        raise NotImplementedError(\"\")\n",
    "    \n",
    "    def _eval_mul(self, other):\n",
    "        raise NotImplementedError(\"\")\n",
    "\n",
    "    def __radd__(self, a):\n",
    "        \"\"\"Implementation of reverse add method.\"\"\"\n",
    "        return a.__add__(self)       \n",
    "    \n",
    "            \n",
    "class RD(Dioid):\n",
    "    def __init__(self, val):\n",
    "        self.val = sympify(val)\n",
    "        super().__init__()\n",
    "    \n",
    "    def zero(self):\n",
    "        return S(0)\n",
    "    \n",
    "    def one(self):\n",
    "        return S(1)\n",
    "    \n",
    "    def s(self):\n",
    "        return \"TODO R^ set \"\n",
    "\n",
    "    def _eval_neg(self):\n",
    "        \"\"\" NOTE: in a dioid, negation is _not_ mandatory. See page 7 of Graphs, Dioids and Semirings book\n",
    "        \"\"\"\n",
    "        return self.__class__(- self.args[0])\n",
    "        \n",
    "    def _eval_add(self, d2):\n",
    "        \n",
    "        if isinstance(d2,int) or isinstance(d2,float):\n",
    "            return self.__class__(self.args[0] * d2)\n",
    "        elif isinstance(d2, RD):\n",
    "            return self.__class__(self.args[0] + d2.args[0])\n",
    "        \n",
    "    def _eval_mul(self, d2):\n",
    "        if isinstance(d2,int) or isinstance(d2,float):\n",
    "            return self.__class__(self.args[0] * d2)\n",
    "        elif isinstance(d2, RD):\n",
    "            return self.__class__(self.args[0] * d2.args[0])\n",
    "        elif return NotImplemented\n",
    "        \n",
    "    \n",
    "    #@classmethod\n",
    "    #def eval(cls, arg):\n",
    "        # Phi(x) + Phi(-x) == 1\n",
    "        #if arg.could_extract_minus_sign():\n",
    "        #    return 1-cls(-arg)\n",
    "        \n",
    "class Rel(ImmutableMatrix):\n",
    "    def __init__(self, par, dom=[], cod=[]):\n",
    "        super().__init__()\n",
    "        self.dom=dom\n",
    "        self.cod=cod\n",
    "                \n",
    "    def _eval_matrix_mul(self, other):\n",
    "        r = super()._eval_matrix_mul(other)\n",
    "        r.dom = self.dom\n",
    "        r.cod = other.cod\n",
    "        return r\n",
    "    \n",
    "    def _eval_transpose(self):\n",
    "        r = super()._eval_transpose()\n",
    "        r.dom = self.cod\n",
    "        r.cod = self.dom\n",
    "        return r\n",
    "    \n",
    "    T = property(transpose, None, None, \"Matrix transposition.\")"
   ]
  },
  {
   "cell_type": "code",
   "execution_count": 314,
   "metadata": {},
   "outputs": [
    {
     "data": {
      "image/png": "[encoded data removed]",
      "text/latex": [
       "$$RD(3) + RD(7)$$"
      ],
      "text/plain": [
       "RD(3) + RD(7)"
      ]
     },
     "execution_count": 314,
     "metadata": {},
     "output_type": "execute_result"
    }
   ],
   "source": [
    "(Add(RD(3), RD(7))).evalf()"
   ]
  },
  {
   "cell_type": "code",
   "execution_count": 315,
   "metadata": {},
   "outputs": [
    {
     "data": {
      "image/png": "[encoded data removed]",
      "text/latex": [
       "$$RD(3) + RD(7)$$"
      ],
      "text/plain": [
       "RD(3) + RD(7)"
      ]
     },
     "execution_count": 315,
     "metadata": {},
     "output_type": "execute_result"
    }
   ],
   "source": [
    "simplify(Add(RD(3), RD(7)))"
   ]
  },
  {
   "cell_type": "code",
   "execution_count": 291,
   "metadata": {},
   "outputs": [
    {
     "data": {
      "image/png": "[encoded data removed]",
      "text/latex": [
       "$$RD(5)$$"
      ],
      "text/plain": [
       "RD(5)"
      ]
     },
     "execution_count": 291,
     "metadata": {},
     "output_type": "execute_result"
    }
   ],
   "source": [
    "RD(5)"
   ]
  },
  {
   "cell_type": "code",
   "execution_count": 292,
   "metadata": {},
   "outputs": [
    {
     "data": {
      "text/plain": [
       "True"
      ]
     },
     "execution_count": 292,
     "metadata": {},
     "output_type": "execute_result"
    }
   ],
   "source": [
    "RD(5) == RD(5)"
   ]
  },
  {
   "cell_type": "code",
   "execution_count": 293,
   "metadata": {},
   "outputs": [
    {
     "data": {
      "image/png": "[encoded data removed]",
      "text/latex": [
       "$$RD(-5)$$"
      ],
      "text/plain": [
       "RD(-5)"
      ]
     },
     "execution_count": 293,
     "metadata": {},
     "output_type": "execute_result"
    }
   ],
   "source": [
    "-RD(5)"
   ]
  },
  {
   "cell_type": "code",
   "execution_count": 294,
   "metadata": {},
   "outputs": [
    {
     "data": {
      "image/png": "[encoded data removed]",
      "text/latex": [
       "$$RD(10)$$"
      ],
      "text/plain": [
       "RD(10)"
      ]
     },
     "execution_count": 294,
     "metadata": {},
     "output_type": "execute_result"
    }
   ],
   "source": [
    "RD(3) + RD(7)"
   ]
  },
  {
   "cell_type": "code",
   "execution_count": 295,
   "metadata": {},
   "outputs": [],
   "source": [
    "w = Rel([RD(3)])"
   ]
  },
  {
   "cell_type": "code",
   "execution_count": 296,
   "metadata": {},
   "outputs": [
    {
     "data": {
      "image/png": "[encoded data removed]",
      "text/latex": [
       "$$RD(3) + RD(7)$$"
      ],
      "text/plain": [
       "RD(3) + RD(7)"
      ]
     },
     "execution_count": 296,
     "metadata": {},
     "output_type": "execute_result"
    }
   ],
   "source": [
    "sympify(Add(RD(3), RD(7)))"
   ]
  },
  {
   "cell_type": "code",
   "execution_count": 285,
   "metadata": {},
   "outputs": [
    {
     "data": {
      "image/png": "[encoded data removed]",
      "text/latex": [
       "$$RD(3) + RD(7)$$"
      ],
      "text/plain": [
       "RD(3) + RD(7)"
      ]
     },
     "execution_count": 285,
     "metadata": {},
     "output_type": "execute_result"
    }
   ],
   "source": [
    "Add(RD(3), RD(7)).doit()"
   ]
  },
  {
   "cell_type": "code",
   "execution_count": 286,
   "metadata": {},
   "outputs": [
    {
     "data": {
      "image/png": "[encoded data removed]",
      "text/latex": [
       "$$RD(3) + RD(7)$$"
      ],
      "text/plain": [
       "RD(3) + RD(7)"
      ]
     },
     "execution_count": 286,
     "metadata": {},
     "output_type": "execute_result"
    }
   ],
   "source": [
    "simplify(Add(RD(3), RD(7)))"
   ]
  },
  {
   "cell_type": "code",
   "execution_count": 300,
   "metadata": {},
   "outputs": [
    {
     "data": {
      "image/png": "[encoded data removed]",
      "text/latex": [
       "$$10.0$$"
      ],
      "text/plain": [
       "10.0000000000000"
      ]
     },
     "execution_count": 300,
     "metadata": {},
     "output_type": "execute_result"
    }
   ],
   "source": [
    "(Add(Integer(3), Integer(7))).evalf()"
   ]
  },
  {
   "cell_type": "code",
   "execution_count": 301,
   "metadata": {},
   "outputs": [
    {
     "data": {
      "image/png": "[encoded data removed]",
      "text/latex": [
       "$$10$$"
      ],
      "text/plain": [
       "10"
      ]
     },
     "execution_count": 301,
     "metadata": {},
     "output_type": "execute_result"
    }
   ],
   "source": [
    "simplify(Add(Integer(3), Integer(7)))"
   ]
  },
  {
   "cell_type": "code",
   "execution_count": 258,
   "metadata": {},
   "outputs": [],
   "source": [
    "w = Rel([[RD(2),RD(5)]], dom=['a','b'], cod=['x','y','z'])"
   ]
  },
  {
   "cell_type": "code",
   "execution_count": 259,
   "metadata": {},
   "outputs": [
    {
     "data": {
      "text/latex": [
       "$$\\left[\\begin{matrix}RD(2) & RD(5)\\end{matrix}\\right]$$"
      ],
      "text/plain": [
       "[RD(2)  RD(5)]"
      ]
     },
     "execution_count": 259,
     "metadata": {},
     "output_type": "execute_result"
    }
   ],
   "source": [
    "w"
   ]
  },
  {
   "cell_type": "code",
   "execution_count": 261,
   "metadata": {},
   "outputs": [],
   "source": [
    "x = w*w.T"
   ]
  },
  {
   "cell_type": "code",
   "execution_count": 270,
   "metadata": {},
   "outputs": [
    {
     "data": {
      "text/latex": [
       "$$\\left[\\begin{matrix}RD(4) + RD(25)\\end{matrix}\\right]$$"
      ],
      "text/plain": [
       "[RD(4) + RD(25)]"
      ]
     },
     "execution_count": 270,
     "metadata": {},
     "output_type": "execute_result"
    }
   ],
   "source": [
    "x"
   ]
  },
  {
   "cell_type": "code",
   "execution_count": 274,
   "metadata": {},
   "outputs": [
    {
     "data": {
      "image/png": "[encoded data removed]",
      "text/latex": [
       "$$RD(4) + RD(25)$$"
      ],
      "text/plain": [
       "RD(4) + RD(25)"
      ]
     },
     "execution_count": 274,
     "metadata": {},
     "output_type": "execute_result"
    }
   ],
   "source": [
    "simplify(x[0])"
   ]
  },
  {
   "cell_type": "code",
   "execution_count": 263,
   "metadata": {},
   "outputs": [],
   "source": [
    "r = Rel([[2,5]], dom=['a','b'], cod=['x','y','z'])"
   ]
  },
  {
   "cell_type": "code",
   "execution_count": 268,
   "metadata": {},
   "outputs": [],
   "source": [
    "p = r*r.T"
   ]
  },
  {
   "cell_type": "code",
   "execution_count": 269,
   "metadata": {},
   "outputs": [
    {
     "data": {
      "text/latex": [
       "$$\\left[\\begin{matrix}29\\end{matrix}\\right]$$"
      ],
      "text/plain": [
       "[29]"
      ]
     },
     "execution_count": 269,
     "metadata": {},
     "output_type": "execute_result"
    }
   ],
   "source": [
    "p"
   ]
  },
  {
   "cell_type": "code",
   "execution_count": 265,
   "metadata": {},
   "outputs": [
    {
     "data": {
      "text/plain": [
       "__main__.Rel"
      ]
     },
     "execution_count": 265,
     "metadata": {},
     "output_type": "execute_result"
    }
   ],
   "source": [
    "type(p)"
   ]
  },
  {
   "cell_type": "code",
   "execution_count": 266,
   "metadata": {},
   "outputs": [
    {
     "data": {
      "text/plain": [
       "['a', 'b']"
      ]
     },
     "execution_count": 266,
     "metadata": {},
     "output_type": "execute_result"
    }
   ],
   "source": [
    "p.dom"
   ]
  },
  {
   "cell_type": "code",
   "execution_count": 267,
   "metadata": {},
   "outputs": [
    {
     "data": {
      "text/plain": [
       "['a', 'b']"
      ]
     },
     "execution_count": 267,
     "metadata": {},
     "output_type": "execute_result"
    }
   ],
   "source": [
    "p.cod"
   ]
  },
  {
   "cell_type": "code",
   "execution_count": 160,
   "metadata": {},
   "outputs": [
    {
     "data": {
      "text/latex": [
       "$$\\left[\\begin{matrix}2 & 5\\end{matrix}\\right]$$"
      ],
      "text/plain": [
       "[2  5]"
      ]
     },
     "execution_count": 160,
     "metadata": {},
     "output_type": "execute_result"
    }
   ],
   "source": [
    "r"
   ]
  },
  {
   "cell_type": "code",
   "execution_count": 106,
   "metadata": {},
   "outputs": [
    {
     "data": {
      "text/plain": [
       "['a', 'b']"
      ]
     },
     "execution_count": 106,
     "metadata": {},
     "output_type": "execute_result"
    }
   ],
   "source": [
    "r.dom"
   ]
  },
  {
   "cell_type": "code",
   "execution_count": 107,
   "metadata": {},
   "outputs": [
    {
     "data": {
      "text/latex": [
       "$$\\left[\\begin{matrix}2\\\\5\\end{matrix}\\right]$$"
      ],
      "text/plain": [
       "⎡2⎤\n",
       "⎢ ⎥\n",
       "⎣5⎦"
      ]
     },
     "execution_count": 107,
     "metadata": {},
     "output_type": "execute_result"
    }
   ],
   "source": [
    "Rel([2,5])"
   ]
  },
  {
   "cell_type": "code",
   "execution_count": 109,
   "metadata": {},
   "outputs": [],
   "source": [
    "s = sympify(\"r * r.T\", locals={'r':r}, evaluate=False)"
   ]
  },
  {
   "cell_type": "code",
   "execution_count": 111,
   "metadata": {},
   "outputs": [
    {
     "data": {
      "text/latex": [
       "$$\\left[\\begin{matrix}2\\\\5\\end{matrix}\\right] \\left[\\begin{matrix}2 & 5\\end{matrix}\\right]$$"
      ],
      "text/plain": [
       "⎡2⎤       \n",
       "⎢ ⎥⋅[2  5]\n",
       "⎣5⎦       "
      ]
     },
     "execution_count": 111,
     "metadata": {},
     "output_type": "execute_result"
    }
   ],
   "source": [
    "s"
   ]
  },
  {
   "cell_type": "code",
   "execution_count": 113,
   "metadata": {},
   "outputs": [
    {
     "data": {
      "text/plain": [
       "['a', 'b']"
      ]
     },
     "execution_count": 113,
     "metadata": {},
     "output_type": "execute_result"
    }
   ],
   "source": [
    "s.args[0].dom"
   ]
  },
  {
   "cell_type": "code",
   "execution_count": 115,
   "metadata": {},
   "outputs": [
    {
     "data": {
      "text/plain": [
       "['x', 'y', 'z']"
      ]
     },
     "execution_count": 115,
     "metadata": {},
     "output_type": "execute_result"
    }
   ],
   "source": [
    "s.args[0].cod"
   ]
  },
  {
   "cell_type": "code",
   "execution_count": null,
   "metadata": {},
   "outputs": [],
   "source": [
    "s.simplify"
   ]
  },
  {
   "cell_type": "code",
   "execution_count": 81,
   "metadata": {},
   "outputs": [
    {
     "data": {
      "text/latex": [
       "$$\\left[\\begin{matrix}2\\\\3\\end{matrix}\\right]$$"
      ],
      "text/plain": [
       "⎡2⎤\n",
       "⎢ ⎥\n",
       "⎣3⎦"
      ]
     },
     "execution_count": 81,
     "metadata": {},
     "output_type": "execute_result"
    }
   ],
   "source": [
    "m"
   ]
  },
  {
   "cell_type": "code",
   "execution_count": 82,
   "metadata": {},
   "outputs": [],
   "source": [
    "m.prova = ['a','b']"
   ]
  },
  {
   "cell_type": "code",
   "execution_count": 83,
   "metadata": {},
   "outputs": [
    {
     "data": {
      "text/plain": [
       "['a', 'b']"
      ]
     },
     "execution_count": 83,
     "metadata": {},
     "output_type": "execute_result"
    }
   ],
   "source": [
    "m.prova"
   ]
  },
  {
   "cell_type": "code",
   "execution_count": 84,
   "metadata": {},
   "outputs": [],
   "source": [
    "s = sympify(\"m * m.T\", locals={'m':m}, evaluate=False)"
   ]
  },
  {
   "cell_type": "code",
   "execution_count": 85,
   "metadata": {},
   "outputs": [
    {
     "data": {
      "text/latex": [
       "$$\\left[\\begin{matrix}2\\\\3\\end{matrix}\\right] \\left[\\begin{matrix}2 & 3\\end{matrix}\\right]$$"
      ],
      "text/plain": [
       "⎡2⎤       \n",
       "⎢ ⎥⋅[2  3]\n",
       "⎣3⎦       "
      ]
     },
     "execution_count": 85,
     "metadata": {},
     "output_type": "execute_result"
    }
   ],
   "source": [
    "s"
   ]
  },
  {
   "cell_type": "code",
   "execution_count": 86,
   "metadata": {},
   "outputs": [
    {
     "data": {
      "text/latex": [
       "$$\\left[\\begin{matrix}2\\\\3\\end{matrix}\\right]$$"
      ],
      "text/plain": [
       "⎡2⎤\n",
       "⎢ ⎥\n",
       "⎣3⎦"
      ]
     },
     "execution_count": 86,
     "metadata": {},
     "output_type": "execute_result"
    }
   ],
   "source": [
    "s.args[0]"
   ]
  },
  {
   "cell_type": "code",
   "execution_count": 87,
   "metadata": {},
   "outputs": [
    {
     "ename": "AttributeError",
     "evalue": "ImmutableDenseMatrix has no attribute prova.",
     "output_type": "error",
     "traceback": [
      "\u001b[0;31m---------------------------------------------------------------------------\u001b[0m",
      "\u001b[0;31mAttributeError\u001b[0m                            Traceback (most recent call last)",
      "\u001b[0;32m<ipython-input-87-35e336bb4cee>\u001b[0m in \u001b[0;36m<module>\u001b[0;34m()\u001b[0m\n\u001b[0;32m----> 1\u001b[0;31m \u001b[0ms\u001b[0m\u001b[0;34m.\u001b[0m\u001b[0margs\u001b[0m\u001b[0;34m[\u001b[0m\u001b[0;36m0\u001b[0m\u001b[0;34m]\u001b[0m\u001b[0;34m.\u001b[0m\u001b[0mprova\u001b[0m\u001b[0;34m\u001b[0m\u001b[0m\n\u001b[0m",
      "\u001b[0;32m~/.local/lib/python3.5/site-packages/sympy/matrices/matrices.py\u001b[0m in \u001b[0;36m__getattr__\u001b[0;34m(self, attr)\u001b[0m\n\u001b[1;32m   1954\u001b[0m         \u001b[0;32melse\u001b[0m\u001b[0;34m:\u001b[0m\u001b[0;34m\u001b[0m\u001b[0m\n\u001b[1;32m   1955\u001b[0m             raise AttributeError(\n\u001b[0;32m-> 1956\u001b[0;31m                 \"%s has no attribute %s.\" % (self.__class__.__name__, attr))\n\u001b[0m\u001b[1;32m   1957\u001b[0m \u001b[0;34m\u001b[0m\u001b[0m\n\u001b[1;32m   1958\u001b[0m     \u001b[0;32mdef\u001b[0m \u001b[0m__len__\u001b[0m\u001b[0;34m(\u001b[0m\u001b[0mself\u001b[0m\u001b[0;34m)\u001b[0m\u001b[0;34m:\u001b[0m\u001b[0;34m\u001b[0m\u001b[0m\n",
      "\u001b[0;31mAttributeError\u001b[0m: ImmutableDenseMatrix has no attribute prova."
     ]
    }
   ],
   "source": [
    "s.args[0].prova"
   ]
  },
  {
   "cell_type": "code",
   "execution_count": null,
   "metadata": {},
   "outputs": [],
   "source": []
  }
 ],
 "metadata": {
  "kernelspec": {
   "display_name": "Python 3",
   "language": "python",
   "name": "python3"
  },
  "language_info": {
   "codemirror_mode": {
    "name": "ipython",
    "version": 3
   },
   "file_extension": ".py",
   "mimetype": "text/x-python",
   "name": "python",
   "nbconvert_exporter": "python",
   "pygments_lexer": "ipython3",
   "version": "3.5.2"
  },
  "toc": {
   "base_numbering": 1,
   "nav_menu": {},
   "number_sections": false,
   "sideBar": true,
   "skip_h1_title": false,
   "title_cell": "Table of Contents",
   "title_sidebar": "Contents",
   "toc_cell": false,
   "toc_position": {},
   "toc_section_display": true,
   "toc_window_display": false
  }
 },
 "nbformat": 4,
 "nbformat_minor": 2
}
