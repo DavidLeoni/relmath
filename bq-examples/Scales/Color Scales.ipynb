{
 "cells": [
  {
   "cell_type": "code",
   "execution_count": 1,
   "metadata": {},
   "outputs": [],
   "source": [
    "from bqplot import *\n",
    "\n",
    "import numpy as np"
   ]
  },
  {
   "cell_type": "markdown",
   "metadata": {},
   "source": [
    "## ColorScale\n",
    "\n",
    "The colors for the `ColorScale` can be defined one of two ways:\n",
    "- Manually, by setting the scale's `colors` attribute to a list of css colors. They can be either:\n",
    "   - html colors (link) `'white'`\n",
    "   - hex `'#000000'`\n",
    "   - rgb `'rgb(0, 0, 0)'`.\n",
    "\n",
    "```python\n",
    "col_sc = ColorScale(colors=['yellow', 'red'])\n",
    "```\n",
    "- Using one of `bqplot`'s color-schemes. As of now we support all the colorbrewer schemes (link), as well as the matplotlib schemes 'viridis', 'magma', 'inferno' and 'plasma'.\n",
    "```python\n",
    "col_sc = ColorScale(scheme=['viridis'])\n",
    "```\n",
    "\n",
    "The color scale then linearly interpolates between its colors.\n",
    "\n",
    "### ColorAxis\n",
    "\n",
    "A `ColorAxis`, like other `Axis` types, takes a color scale as input. It can then be displayed in a `Figure`.\n",
    "\n",
    "```python\n",
    "ax_col = ColorAxis(scale=col_sc)\n",
    "```"
   ]
  },
  {
   "cell_type": "code",
   "execution_count": 2,
   "metadata": {},
   "outputs": [
    {
     "data": {
      "application/vnd.jupyter.widget-view+json": {
       "model_id": "0f07c4859b6c4e10b0ab7ff6237cdbac",
       "version_major": 2,
       "version_minor": 0
      },
      "text/plain": [
       "Figure(axes=[Axis(label_location='end', num_ticks=10, scale=LinearScale()), Axis(orientation='vertical', scale…"
      ]
     },
     "metadata": {},
     "output_type": "display_data"
    }
   ],
   "source": [
    "size = 100\n",
    "np.random.seed(0)\n",
    "x_data = range(size)\n",
    "y_data = np.cumsum(np.random.randn(size) * 100.0)\n",
    "\n",
    "def create_figure(color_scale, color_data):\n",
    "\n",
    "    scales = {'x': LinearScale(), 'y': LinearScale(), 'color': color_scale}\n",
    "    scatter = Scatter(x=x_data, y=y_data, color=color_data,\n",
    "                      scales=scales, \n",
    "                      stroke='black')\n",
    "    ax_y = Axis(label='Price', scale=scales['y'], \n",
    "                orientation='vertical', side='left')\n",
    "    ax_x = Axis(label='Day', scale=scales['x'], num_ticks=10, label_location='end')\n",
    "    ax_c = ColorAxis(scale=color_scale, label='Returns', orientation='vertical', side='right')\n",
    "    ax_y = Axis(scale=scales['y'], \n",
    "                orientation='vertical', side='left')\n",
    "    ax_x = Axis(scale=scales['x'], num_ticks=10, label_location='end')\n",
    "    ax_c = ColorAxis(scale=color_scale, orientation='vertical', side='right')\n",
    "\n",
    "    m_chart = dict(top=50, bottom=70, left=50, right=100)\n",
    "\n",
    "    return Figure(axes=[ax_x, ax_y, ax_c], title='Up and Down',\n",
    "                  marks=[scatter], fig_margin=m_chart,)\n",
    "\n",
    "col_sc = ColorScale()\n",
    "create_figure(col_sc, y_data)"
   ]
  },
  {
   "cell_type": "markdown",
   "metadata": {},
   "source": [
    "### Attributes\n",
    "`ColorScales` share attributes with the other `Scale` types:\n",
    "- Their domain can be manually constrained with the `min` and `max` attributes\n",
    "- They can be inversed by setting the `reverse` attribute to `True`"
   ]
  },
  {
   "cell_type": "code",
   "execution_count": 3,
   "metadata": {},
   "outputs": [],
   "source": [
    "col_sc.min = 0"
   ]
  },
  {
   "cell_type": "code",
   "execution_count": 4,
   "metadata": {},
   "outputs": [],
   "source": [
    "col_sc.reverse = True"
   ]
  },
  {
   "cell_type": "markdown",
   "metadata": {},
   "source": [
    "#### Mid\n",
    "In addition they also have a `mid` attribute, a value that will be mapped to the middle color. This is especially suited to diverging color schemes."
   ]
  },
  {
   "cell_type": "code",
   "execution_count": 5,
   "metadata": {},
   "outputs": [],
   "source": [
    "col_sc.min = None\n",
    "col_sc.mid = 0"
   ]
  },
  {
   "cell_type": "markdown",
   "metadata": {},
   "source": [
    "## DateColorScale\n",
    "\n",
    "The `DateColorScale` is a color scale for dates. It works in every way like the regular `ColorScale`, except that its `min`, `mid` and `max` attributes — if defined — must be date elements (`datetime`, `numpy` or `pandas`)."
   ]
  },
  {
   "cell_type": "code",
   "execution_count": 6,
   "metadata": {},
   "outputs": [
    {
     "data": {
      "application/vnd.jupyter.widget-view+json": {
       "model_id": "1a327edaf6af4858be4c76cb482a1faf",
       "version_major": 2,
       "version_minor": 0
      },
      "text/plain": [
       "Figure(axes=[Axis(label_location='end', num_ticks=10, scale=LinearScale()), Axis(orientation='vertical', scale…"
      ]
     },
     "metadata": {},
     "output_type": "display_data"
    }
   ],
   "source": [
    "import pandas as pd\n",
    "\n",
    "date_col_sc = DateColorScale()\n",
    "dates = pd.date_range(start='01-01-2007', periods=size)\n",
    "create_figure(date_col_sc, dates)"
   ]
  },
  {
   "cell_type": "code",
   "execution_count": 7,
   "metadata": {},
   "outputs": [
    {
     "ename": "TraitError",
     "evalue": "The 'min' trait of a DateColorScale instance must be a float, but a value of datetime.datetime(2007, 2, 28, 0, 0) <class 'datetime.datetime'> was specified.",
     "output_type": "error",
     "traceback": [
      "\u001b[0;31m---------------------------------------------------------------------------\u001b[0m",
      "\u001b[0;31mTraitError\u001b[0m                                Traceback (most recent call last)",
      "\u001b[0;32m<ipython-input-7-a139b5e3506c>\u001b[0m in \u001b[0;36m<module>\u001b[0;34m()\u001b[0m\n\u001b[0;32m----> 1\u001b[0;31m \u001b[0mdate_col_sc\u001b[0m\u001b[0;34m.\u001b[0m\u001b[0mmin\u001b[0m \u001b[0;34m=\u001b[0m \u001b[0mpd\u001b[0m\u001b[0;34m.\u001b[0m\u001b[0mdatetime\u001b[0m\u001b[0;34m(\u001b[0m\u001b[0;36m2007\u001b[0m\u001b[0;34m,\u001b[0m\u001b[0;36m2\u001b[0m\u001b[0;34m,\u001b[0m\u001b[0;36m28\u001b[0m\u001b[0;34m)\u001b[0m\u001b[0;34m\u001b[0m\u001b[0m\n\u001b[0m",
      "\u001b[0;32m~/.local/lib/python3.5/site-packages/traitlets/traitlets.py\u001b[0m in \u001b[0;36m__set__\u001b[0;34m(self, obj, value)\u001b[0m\n\u001b[1;32m    583\u001b[0m             \u001b[0;32mraise\u001b[0m \u001b[0mTraitError\u001b[0m\u001b[0;34m(\u001b[0m\u001b[0;34m'The \"%s\" trait is read-only.'\u001b[0m \u001b[0;34m%\u001b[0m \u001b[0mself\u001b[0m\u001b[0;34m.\u001b[0m\u001b[0mname\u001b[0m\u001b[0;34m)\u001b[0m\u001b[0;34m\u001b[0m\u001b[0m\n\u001b[1;32m    584\u001b[0m         \u001b[0;32melse\u001b[0m\u001b[0;34m:\u001b[0m\u001b[0;34m\u001b[0m\u001b[0m\n\u001b[0;32m--> 585\u001b[0;31m             \u001b[0mself\u001b[0m\u001b[0;34m.\u001b[0m\u001b[0mset\u001b[0m\u001b[0;34m(\u001b[0m\u001b[0mobj\u001b[0m\u001b[0;34m,\u001b[0m \u001b[0mvalue\u001b[0m\u001b[0;34m)\u001b[0m\u001b[0;34m\u001b[0m\u001b[0m\n\u001b[0m\u001b[1;32m    586\u001b[0m \u001b[0;34m\u001b[0m\u001b[0m\n\u001b[1;32m    587\u001b[0m     \u001b[0;32mdef\u001b[0m \u001b[0m_validate\u001b[0m\u001b[0;34m(\u001b[0m\u001b[0mself\u001b[0m\u001b[0;34m,\u001b[0m \u001b[0mobj\u001b[0m\u001b[0;34m,\u001b[0m \u001b[0mvalue\u001b[0m\u001b[0;34m)\u001b[0m\u001b[0;34m:\u001b[0m\u001b[0;34m\u001b[0m\u001b[0m\n",
      "\u001b[0;32m~/.local/lib/python3.5/site-packages/traitlets/traitlets.py\u001b[0m in \u001b[0;36mset\u001b[0;34m(self, obj, value)\u001b[0m\n\u001b[1;32m    557\u001b[0m \u001b[0;34m\u001b[0m\u001b[0m\n\u001b[1;32m    558\u001b[0m     \u001b[0;32mdef\u001b[0m \u001b[0mset\u001b[0m\u001b[0;34m(\u001b[0m\u001b[0mself\u001b[0m\u001b[0;34m,\u001b[0m \u001b[0mobj\u001b[0m\u001b[0;34m,\u001b[0m \u001b[0mvalue\u001b[0m\u001b[0;34m)\u001b[0m\u001b[0;34m:\u001b[0m\u001b[0;34m\u001b[0m\u001b[0m\n\u001b[0;32m--> 559\u001b[0;31m         \u001b[0mnew_value\u001b[0m \u001b[0;34m=\u001b[0m \u001b[0mself\u001b[0m\u001b[0;34m.\u001b[0m\u001b[0m_validate\u001b[0m\u001b[0;34m(\u001b[0m\u001b[0mobj\u001b[0m\u001b[0;34m,\u001b[0m \u001b[0mvalue\u001b[0m\u001b[0;34m)\u001b[0m\u001b[0;34m\u001b[0m\u001b[0m\n\u001b[0m\u001b[1;32m    560\u001b[0m         \u001b[0;32mtry\u001b[0m\u001b[0;34m:\u001b[0m\u001b[0;34m\u001b[0m\u001b[0m\n\u001b[1;32m    561\u001b[0m             \u001b[0mold_value\u001b[0m \u001b[0;34m=\u001b[0m \u001b[0mobj\u001b[0m\u001b[0;34m.\u001b[0m\u001b[0m_trait_values\u001b[0m\u001b[0;34m[\u001b[0m\u001b[0mself\u001b[0m\u001b[0;34m.\u001b[0m\u001b[0mname\u001b[0m\u001b[0;34m]\u001b[0m\u001b[0;34m\u001b[0m\u001b[0m\n",
      "\u001b[0;32m~/.local/lib/python3.5/site-packages/traitlets/traitlets.py\u001b[0m in \u001b[0;36m_validate\u001b[0;34m(self, obj, value)\u001b[0m\n\u001b[1;32m    589\u001b[0m             \u001b[0;32mreturn\u001b[0m \u001b[0mvalue\u001b[0m\u001b[0;34m\u001b[0m\u001b[0m\n\u001b[1;32m    590\u001b[0m         \u001b[0;32mif\u001b[0m \u001b[0mhasattr\u001b[0m\u001b[0;34m(\u001b[0m\u001b[0mself\u001b[0m\u001b[0;34m,\u001b[0m \u001b[0;34m'validate'\u001b[0m\u001b[0;34m)\u001b[0m\u001b[0;34m:\u001b[0m\u001b[0;34m\u001b[0m\u001b[0m\n\u001b[0;32m--> 591\u001b[0;31m             \u001b[0mvalue\u001b[0m \u001b[0;34m=\u001b[0m \u001b[0mself\u001b[0m\u001b[0;34m.\u001b[0m\u001b[0mvalidate\u001b[0m\u001b[0;34m(\u001b[0m\u001b[0mobj\u001b[0m\u001b[0;34m,\u001b[0m \u001b[0mvalue\u001b[0m\u001b[0;34m)\u001b[0m\u001b[0;34m\u001b[0m\u001b[0m\n\u001b[0m\u001b[1;32m    592\u001b[0m         \u001b[0;32mif\u001b[0m \u001b[0mobj\u001b[0m\u001b[0;34m.\u001b[0m\u001b[0m_cross_validation_lock\u001b[0m \u001b[0;32mis\u001b[0m \u001b[0;32mFalse\u001b[0m\u001b[0;34m:\u001b[0m\u001b[0;34m\u001b[0m\u001b[0m\n\u001b[1;32m    593\u001b[0m             \u001b[0mvalue\u001b[0m \u001b[0;34m=\u001b[0m \u001b[0mself\u001b[0m\u001b[0;34m.\u001b[0m\u001b[0m_cross_validate\u001b[0m\u001b[0;34m(\u001b[0m\u001b[0mobj\u001b[0m\u001b[0;34m,\u001b[0m \u001b[0mvalue\u001b[0m\u001b[0;34m)\u001b[0m\u001b[0;34m\u001b[0m\u001b[0m\n",
      "\u001b[0;32m~/.local/lib/python3.5/site-packages/traitlets/traitlets.py\u001b[0m in \u001b[0;36mvalidate\u001b[0;34m(self, obj, value)\u001b[0m\n\u001b[1;32m   1974\u001b[0m             \u001b[0mvalue\u001b[0m \u001b[0;34m=\u001b[0m \u001b[0mfloat\u001b[0m\u001b[0;34m(\u001b[0m\u001b[0mvalue\u001b[0m\u001b[0;34m)\u001b[0m\u001b[0;34m\u001b[0m\u001b[0m\n\u001b[1;32m   1975\u001b[0m         \u001b[0;32mif\u001b[0m \u001b[0;32mnot\u001b[0m \u001b[0misinstance\u001b[0m\u001b[0;34m(\u001b[0m\u001b[0mvalue\u001b[0m\u001b[0;34m,\u001b[0m \u001b[0mfloat\u001b[0m\u001b[0;34m)\u001b[0m\u001b[0;34m:\u001b[0m\u001b[0;34m\u001b[0m\u001b[0m\n\u001b[0;32m-> 1976\u001b[0;31m             \u001b[0mself\u001b[0m\u001b[0;34m.\u001b[0m\u001b[0merror\u001b[0m\u001b[0;34m(\u001b[0m\u001b[0mobj\u001b[0m\u001b[0;34m,\u001b[0m \u001b[0mvalue\u001b[0m\u001b[0;34m)\u001b[0m\u001b[0;34m\u001b[0m\u001b[0m\n\u001b[0m\u001b[1;32m   1977\u001b[0m         \u001b[0;32mreturn\u001b[0m \u001b[0m_validate_bounds\u001b[0m\u001b[0;34m(\u001b[0m\u001b[0mself\u001b[0m\u001b[0;34m,\u001b[0m \u001b[0mobj\u001b[0m\u001b[0;34m,\u001b[0m \u001b[0mvalue\u001b[0m\u001b[0;34m)\u001b[0m\u001b[0;34m\u001b[0m\u001b[0m\n\u001b[1;32m   1978\u001b[0m \u001b[0;34m\u001b[0m\u001b[0m\n",
      "\u001b[0;32m~/.local/lib/python3.5/site-packages/traitlets/traitlets.py\u001b[0m in \u001b[0;36merror\u001b[0;34m(self, obj, value)\u001b[0m\n\u001b[1;32m    623\u001b[0m             \u001b[0me\u001b[0m \u001b[0;34m=\u001b[0m \u001b[0;34m\"The '%s' trait must be %s, but a value of %r was specified.\"\u001b[0m\u001b[0;31m \u001b[0m\u001b[0;31m\\\u001b[0m\u001b[0;34m\u001b[0m\u001b[0m\n\u001b[1;32m    624\u001b[0m                 \u001b[0;34m%\u001b[0m \u001b[0;34m(\u001b[0m\u001b[0mself\u001b[0m\u001b[0;34m.\u001b[0m\u001b[0mname\u001b[0m\u001b[0;34m,\u001b[0m \u001b[0mself\u001b[0m\u001b[0;34m.\u001b[0m\u001b[0minfo\u001b[0m\u001b[0;34m(\u001b[0m\u001b[0;34m)\u001b[0m\u001b[0;34m,\u001b[0m \u001b[0mrepr_type\u001b[0m\u001b[0;34m(\u001b[0m\u001b[0mvalue\u001b[0m\u001b[0;34m)\u001b[0m\u001b[0;34m)\u001b[0m\u001b[0;34m\u001b[0m\u001b[0m\n\u001b[0;32m--> 625\u001b[0;31m         \u001b[0;32mraise\u001b[0m \u001b[0mTraitError\u001b[0m\u001b[0;34m(\u001b[0m\u001b[0me\u001b[0m\u001b[0;34m)\u001b[0m\u001b[0;34m\u001b[0m\u001b[0m\n\u001b[0m\u001b[1;32m    626\u001b[0m \u001b[0;34m\u001b[0m\u001b[0m\n\u001b[1;32m    627\u001b[0m     \u001b[0;32mdef\u001b[0m \u001b[0mget_metadata\u001b[0m\u001b[0;34m(\u001b[0m\u001b[0mself\u001b[0m\u001b[0;34m,\u001b[0m \u001b[0mkey\u001b[0m\u001b[0;34m,\u001b[0m \u001b[0mdefault\u001b[0m\u001b[0;34m=\u001b[0m\u001b[0;32mNone\u001b[0m\u001b[0;34m)\u001b[0m\u001b[0;34m:\u001b[0m\u001b[0;34m\u001b[0m\u001b[0m\n",
      "\u001b[0;31mTraitError\u001b[0m: The 'min' trait of a DateColorScale instance must be a float, but a value of datetime.datetime(2007, 2, 28, 0, 0) <class 'datetime.datetime'> was specified."
     ]
    }
   ],
   "source": [
    "date_col_sc.min = pd.datetime(2007,2,28)"
   ]
  },
  {
   "cell_type": "markdown",
   "metadata": {},
   "source": [
    "## Color Schemes\n",
    "\n",
    "Use the following widgets to browse through the available color schemes"
   ]
  },
  {
   "cell_type": "code",
   "execution_count": 8,
   "metadata": {},
   "outputs": [],
   "source": [
    "from bqplot.market_map import MarketMap\n",
    "\n",
    "from ipywidgets import IntSlider, SelectionSlider, Dropdown\n",
    "from ipywidgets import VBox, HBox, Layout\n",
    "from traitlets import link"
   ]
  },
  {
   "cell_type": "markdown",
   "metadata": {},
   "source": [
    "### Diverging schemes"
   ]
  },
  {
   "cell_type": "code",
   "execution_count": 9,
   "metadata": {},
   "outputs": [],
   "source": [
    "div_schemes = [\n",
    "    'Spectral',\n",
    "    'RdYlGn',\n",
    "    'RdBu',\n",
    "    'PiYG',\n",
    "    'PRGn',\n",
    "    'RdYlBu',\n",
    "    'BrBG',\n",
    "    'RdGy',\n",
    "    'PuOr',\n",
    "]"
   ]
  },
  {
   "cell_type": "code",
   "execution_count": 10,
   "metadata": {},
   "outputs": [
    {
     "data": {
      "application/vnd.jupyter.widget-view+json": {
       "model_id": "1288eeeff2894023b62b410266bed4c9",
       "version_major": 2,
       "version_minor": 0
      },
      "text/plain": [
       "VBox(children=(HBox(children=(Dropdown(description='Scheme', options=('Spectral', 'RdYlGn', 'RdBu', 'PiYG', 'P…"
      ]
     },
     "metadata": {},
     "output_type": "display_data"
    }
   ],
   "source": [
    "def scheme_inspector(fig, schemes, title=''):\n",
    "    '''\n",
    "    Takes a Figure and a list of schemes and returns the Figure along with\n",
    "    sliders to go through the different schemes.\n",
    "    \n",
    "    Supposes that the \n",
    "    '''\n",
    "    \n",
    "    # Get the color scale\n",
    "    col_sc = fig.marks[0].scales['color']\n",
    "    \n",
    "    # Create the widgets to select the colorscheme\n",
    "    scheme_slider = SelectionSlider(description='',\n",
    "                                    options=schemes)\n",
    "    scheme_dd = Dropdown(description='Scheme',\n",
    "                         options=schemes)\n",
    "    link((scheme_dd, 'value'), (scheme_slider, 'value'))\n",
    "\n",
    "    def update_scheme(*args):\n",
    "        col_sc.scheme = scheme_slider.value\n",
    "        # ax_c.label = scheme_slider.value\n",
    "\n",
    "    scheme_slider.observe(update_scheme, 'value')\n",
    "    scheme_dd.observe(update_scheme, 'value')\n",
    "    \n",
    "    update_scheme()\n",
    "\n",
    "    return VBox([HBox([scheme_dd, scheme_slider]), fig])\n",
    "\n",
    "scheme_inspector(create_figure(ColorScale(), y_data), div_schemes)"
   ]
  },
  {
   "cell_type": "markdown",
   "metadata": {},
   "source": [
    "### Non-diverging schemes"
   ]
  },
  {
   "cell_type": "code",
   "execution_count": 11,
   "metadata": {},
   "outputs": [],
   "source": [
    "lin_schemes = [\n",
    "    'OrRd',\n",
    "    'PuBu',\n",
    "    'BuPu',\n",
    "    'Oranges',\n",
    "    'BuGn',\n",
    "    'YlOrBr',\n",
    "    'YlGn',\n",
    "    'Reds',\n",
    "    'RdPu',\n",
    "    'Greens',\n",
    "    'YlGnBu',\n",
    "    'Purples',\n",
    "    'GnBu',\n",
    "    'Greys',\n",
    "    'YlOrRd',\n",
    "    'PuRd',\n",
    "    'Blues',\n",
    "    'PuBuGn',\n",
    "    'viridis',\n",
    "    'plasma',\n",
    "    'inferno',\n",
    "    'magma'\n",
    "]"
   ]
  },
  {
   "cell_type": "code",
   "execution_count": 12,
   "metadata": {},
   "outputs": [
    {
     "data": {
      "application/vnd.jupyter.widget-view+json": {
       "model_id": "825b267976b5432598f5dc3418245628",
       "version_major": 2,
       "version_minor": 0
      },
      "text/plain": [
       "VBox(children=(HBox(children=(Dropdown(description='Scheme', options=('OrRd', 'PuBu', 'BuPu', 'Oranges', 'BuGn…"
      ]
     },
     "metadata": {},
     "output_type": "display_data"
    }
   ],
   "source": [
    "scheme_inspector(create_figure(ColorScale(), y_data), lin_schemes,\n",
    "                 title='Non-diverging schemes')"
   ]
  },
  {
   "cell_type": "markdown",
   "metadata": {},
   "source": [
    "## OrdinalColorScale\n",
    "\n",
    "The `OrdinalColorScale` is a color scale for categorical data, i.e. data that does not have an intrinsic order.\n",
    "\n",
    "The scale colors may be specified by the user, or chosen from a set scheme. As of now, the supported color schemes are the colorbrewer categorical schemes, listed here along with their maximum number of colors."
   ]
  },
  {
   "cell_type": "code",
   "execution_count": 13,
   "metadata": {},
   "outputs": [],
   "source": [
    "ord_schemes = {\n",
    "    'Set2': 8,\n",
    "    'Accent': 8,\n",
    "    'Set1': 9,\n",
    "    'Set3': 12,\n",
    "    'Dark2': 8,\n",
    "    'Paired': 12,\n",
    "    'Pastel2': 8,\n",
    "    'Pastel1': 9,\n",
    "}"
   ]
  },
  {
   "cell_type": "code",
   "execution_count": 14,
   "metadata": {},
   "outputs": [],
   "source": [
    "def partition(array, n_groups):\n",
    "    n_elements = len(array)\n",
    "    if n_groups > n_elements:\n",
    "        return np.arange(n_elements)\n",
    "    n_per_group = n_elements // n_groups + (n_elements % n_groups > 0)\n",
    "    return np.tile(range(1, n_groups+1), n_per_group)[:n_elements]"
   ]
  },
  {
   "cell_type": "code",
   "execution_count": 15,
   "metadata": {
    "scrolled": false
   },
   "outputs": [
    {
     "data": {
      "application/vnd.jupyter.widget-view+json": {
       "model_id": "93c96b7f54c644bfa1d917a0ba1c7c2c",
       "version_major": 2,
       "version_minor": 0
      },
      "text/plain": [
       "VBox(children=(HBox(children=(Dropdown(description='Scheme', options={'Set2': 8, 'Accent': 8, 'Pastel2': 8, 'D…"
      ]
     },
     "metadata": {},
     "output_type": "display_data"
    }
   ],
   "source": [
    "# Define the control widgets\n",
    "n_groups_slider = IntSlider(description='n colors', min=3)\n",
    "scheme_slider = SelectionSlider(options=ord_schemes)\n",
    "scheme_dd = Dropdown(description='Scheme',\n",
    "                     options=ord_schemes)\n",
    "link((scheme_dd, 'label'), (scheme_slider, 'label'))\n",
    "    \n",
    "def update_scheme(*args):\n",
    "    col_sc.scheme = scheme_slider.label\n",
    "    ax_c.label = scheme_slider.label\n",
    "    n_groups_slider.max = scheme_slider.value\n",
    "\n",
    "def update_categories(*args):\n",
    "    groups = partition(names, n_groups_slider.value)\n",
    "    market_map.color = groups\n",
    "    market_map.groups = groups\n",
    "\n",
    "n_groups_slider.observe(update_categories, 'value')\n",
    "scheme_slider.observe(update_scheme, 'value')\n",
    "\n",
    "# Define the bqplot marketmap\n",
    "names = range(100)\n",
    "\n",
    "col_sc = OrdinalColorScale()\n",
    "ax_c = ColorAxis(scale=col_sc)\n",
    "\n",
    "market_map = MarketMap(names=names,\n",
    "                       display_text=['' for _ in names],\n",
    "                       scales={'color': col_sc}, axes=[ax_c],\n",
    "                       layout=Layout(min_width='800px', min_height='600px'))\n",
    "update_scheme()\n",
    "update_categories()\n",
    "\n",
    "VBox([HBox([scheme_dd, scheme_slider, n_groups_slider]), market_map])"
   ]
  },
  {
   "cell_type": "code",
   "execution_count": null,
   "metadata": {},
   "outputs": [],
   "source": []
  },
  {
   "cell_type": "code",
   "execution_count": null,
   "metadata": {},
   "outputs": [],
   "source": []
  },
  {
   "cell_type": "code",
   "execution_count": null,
   "metadata": {},
   "outputs": [],
   "source": []
  }
 ],
 "metadata": {
  "kernelspec": {
   "display_name": "Python 2",
   "language": "python",
   "name": "python2"
  },
  "language_info": {
   "codemirror_mode": {
    "name": "ipython",
    "version": 3
   },
   "file_extension": ".py",
   "mimetype": "text/x-python",
   "name": "python",
   "nbconvert_exporter": "python",
   "pygments_lexer": "ipython3",
   "version": "3.5.2"
  },
  "toc": {
   "base_numbering": 1,
   "nav_menu": {},
   "number_sections": false,
   "sideBar": true,
   "skip_h1_title": false,
   "title_cell": "Table of Contents",
   "title_sidebar": "Contents",
   "toc_cell": false,
   "toc_position": {},
   "toc_section_display": true,
   "toc_window_display": false
  }
 },
 "nbformat": 4,
 "nbformat_minor": 2
}
