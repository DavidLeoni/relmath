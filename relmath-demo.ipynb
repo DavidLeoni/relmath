{
 "cells": [
  {
   "cell_type": "markdown",
   "metadata": {},
   "source": [
    "# Relmath DEMO\n",
    "\n"
   ]
  },
  {
   "cell_type": "code",
   "execution_count": 1,
   "metadata": {},
   "outputs": [],
   "source": [
    "from relmath import *\n",
    "from relmath_bq import *\n",
    "\n",
    "State.s.push_env()"
   ]
  },
  {
   "cell_type": "code",
   "execution_count": 2,
   "metadata": {
    "scrolled": false
   },
   "outputs": [
    {
     "name": "stdout",
     "output_type": "stream",
     "text": [
      "╒════════╤════════╤═══════╤═══════╤════════════╕ ╒════════════╤═══════╤═══════╤════════╕\n",
      "│        │ Movies │ Music │ Sport │ Being evil │ │            │ Mario │ Luigi │ Bowser │\n",
      "├────────┼────────┼───────┼───────┼────────────┤ ├────────────┼───────┼───────┼────────┤\n",
      "│ Mario  │ 0.1    │ 0.6   │ 0.3   │ 0.0        │ │ Movies     │ 0.1   │ 0.0   │ 0.0    │\n",
      "├────────┼────────┼───────┼───────┼────────────┤ ├────────────┼───────┼───────┼────────┤\n",
      "│ Luigi  │ 0.0    │ 0.8   │ 0.2   │ 0.0        │*│ Music      │ 0.6   │ 0.8   │ 0.0    │\n",
      "├────────┼────────┼───────┼───────┼────────────┤ ├────────────┼───────┼───────┼────────┤\n",
      "│ Bowser │ 0.0    │ 0.0   │ 0.1   │ 0.9        │ │ Sport      │ 0.3   │ 0.2   │ 0.1    │\n",
      "╘════════╧════════╧═══════╧═══════╧════════════╛ ├────────────┼───────┼───────┼────────┤\n",
      "                                                 │ Being evil │ 0.0   │ 0.0   │ 0.9    │\n",
      "                                                 ╘════════════╧═══════╧═══════╧════════╛\n",
      "                                                \n",
      "\n",
      "╒════════╤══════════╤══════════╤══════════╕\n",
      "│        │ Mario    │ Luigi    │ Bowser   │\n",
      "├────────┼──────────┼──────────┼──────────┤\n",
      "│ Mario  │ 0.46 ... │ 0.54     │ 0.03     │\n",
      "├────────┼──────────┼──────────┼──────────┤\n",
      "│ Luigi  │ 0.54     │ 0.68 ... │ 0.02 ... │\n",
      "├────────┼──────────┼──────────┼──────────┤\n",
      "│ Bowser │ 0.03     │ 0.02 ... │ 0.82 ... │\n",
      "╘════════╧══════════╧══════════╧══════════╛\n"
     ]
    },
    {
     "data": {
      "application/vnd.jupyter.widget-view+json": {
       "model_id": "cdd5956d90b4437884679c8d90f2921a",
       "version_major": 2,
       "version_minor": 0
      },
      "text/plain": [
       "VBox(children=(Figure(fig_margin={'right': 60, 'bottom': 60, 'top': 60, 'left': 60}, layout=Layout(height='300…"
      ]
     },
     "metadata": {},
     "output_type": "display_data"
    }
   ],
   "source": [
    "\n",
    "with quote():\n",
    "\n",
    "    A = Rel([\n",
    "                [0.1, 0.6, 0.3, 0.0],\n",
    "                [0.0, 0.8, 0.2, 0.0],\n",
    "                [0.0, 0.0, 0.1, 0.9]\n",
    "            ], \n",
    "            ['Mario','Luigi','Bowser'], \n",
    "            ['Movies','Music','Sport','Being evil'])\n",
    "\n",
    "    M = A * A.T\n",
    "    MAT = A * A.T.simp()\n",
    "    \n",
    "print(MAT)\n",
    "Ms = M.simp()\n",
    "print(Ms)\n",
    "\n",
    "    \n",
    "M.to_bq()"
   ]
  },
  {
   "cell_type": "code",
   "execution_count": null,
   "metadata": {},
   "outputs": [],
   "source": []
  }
 ],
 "metadata": {
  "kernelspec": {
   "display_name": "Python 3",
   "language": "python",
   "name": "python3"
  },
  "language_info": {
   "codemirror_mode": {
    "name": "ipython",
    "version": 3
   },
   "file_extension": ".py",
   "mimetype": "text/x-python",
   "name": "python",
   "nbconvert_exporter": "python",
   "pygments_lexer": "ipython3",
   "version": "3.5.2"
  },
  "toc": {
   "base_numbering": 1,
   "nav_menu": {},
   "number_sections": false,
   "sideBar": true,
   "skip_h1_title": false,
   "title_cell": "Table of Contents",
   "title_sidebar": "Contents",
   "toc_cell": false,
   "toc_position": {},
   "toc_section_display": true,
   "toc_window_display": false
  }
 },
 "nbformat": 4,
 "nbformat_minor": 2
}
