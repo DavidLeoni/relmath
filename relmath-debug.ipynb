{
 "cells": [
  {
   "cell_type": "markdown",
   "metadata": {},
   "source": [
    "# Relmath debug\n",
    "\n",
    "Notebook for debugging stuff - to see some relevant stuff, see [relmath-demo.ipynb](relmath-demo.ipynb)"
   ]
  },
  {
   "cell_type": "code",
   "execution_count": 1,
   "metadata": {},
   "outputs": [
    {
     "data": {
      "text/plain": [
       "{'application/javascript': <IPython.core.formatters.JavascriptFormatter at 0x7f14383b09e8>,\n",
       " 'application/json': <IPython.core.formatters.JSONFormatter at 0x7f14383b0908>,\n",
       " 'application/pdf': <IPython.core.formatters.PDFFormatter at 0x7f14383b0860>,\n",
       " 'image/jpeg': <IPython.core.formatters.JPEGFormatter at 0x7f14383b0898>,\n",
       " 'image/png': <IPython.core.formatters.PNGFormatter at 0x7f14383b0828>,\n",
       " 'image/svg+xml': <IPython.core.formatters.SVGFormatter at 0x7f14383b07f0>,\n",
       " 'text/html': <IPython.core.formatters.HTMLFormatter at 0x7f143842c438>,\n",
       " 'text/latex': <IPython.core.formatters.LatexFormatter at 0x7f14383b08d0>,\n",
       " 'text/markdown': <IPython.core.formatters.MarkdownFormatter at 0x7f14383b07b8>,\n",
       " 'text/plain': <IPython.core.formatters.PlainTextFormatter at 0x7f14383b0780>}"
      ]
     },
     "execution_count": 1,
     "metadata": {},
     "output_type": "execute_result"
    }
   ],
   "source": [
    " get_ipython().display_formatter.formatters"
   ]
  },
  {
   "cell_type": "code",
   "execution_count": 2,
   "metadata": {},
   "outputs": [],
   "source": [
    "import math\n",
    "\n",
    "def normalize(m):\n",
    "    for row in m.g:\n",
    "        norm = math.sqrt(sum((x**2 for x in row)))\n",
    "        for i in range(len(row)):\n",
    "            row[i] = row[i] / norm"
   ]
  },
  {
   "cell_type": "code",
   "execution_count": 3,
   "metadata": {},
   "outputs": [
    {
     "data": {
      "text/plain": [
       "'CIAO'"
      ]
     },
     "execution_count": 3,
     "metadata": {},
     "output_type": "execute_result"
    }
   ],
   "source": [
    " getattr(\"ciao\", \"upper\")()"
   ]
  },
  {
   "cell_type": "markdown",
   "metadata": {},
   "source": [
    "Nodes and Links should be supplied to the Graph mark. \n",
    "<p>Node attributes\n",
    "\n",
    "| Attribute|      Type     |  Description | Default |\n",
    "|:----------:|:-------------:|:------:|\n",
    "| label |  str | node label | mandatory attribute |\n",
    "| label_display |  {center, outside, none} | label display options | center |\n",
    "| shape |  {circle, ellipse, rect} | node shape | circle |\n",
    "| shape_attrs |  dict | [node SVG attributes](https://www.w3.org/TR/SVG/shapes.html) | {'r': 15} |\n",
    "<p> Link Attributes\n",
    "\n",
    "| Attribute|      Type     |  Description | Default |\n",
    "|:----------:|:-------------:|:------:|\n",
    "| source |  int | source node index | mandatory attribute |\n",
    "| target |  int | target node index | mandatory attribute |\n",
    "| value |  float | value of the link. Use np.nan if you do not want a link| - |\n",
    "\n",
    "<p> Link data can also be supplied using a link_matrix which is a numpy array of shape (n, n) where n is the number of nodes in the graph\n",
    "\n",
    "<p> Link Data can be passed in through 3 data attributes - \n",
    "1. link_data - list of dicts (e.g. [{'source': 0, 'target': 1, 'value': 10}, {'source': 2, 'target': 1, 'value': 20},...]\n",
    "2. link_matrix - 2-d numpy array of shape (n, n) where n is the number of nodes\n",
    "3. link_color - 2-d numpy array of shape (n, n) where n is the number of nodes. This attribute can be used to encode the link_color by passing in a link_color scale\n"
   ]
  },
  {
   "cell_type": "code",
   "execution_count": 4,
   "metadata": {},
   "outputs": [
    {
     "name": "stdout",
     "output_type": "stream",
     "text": [
      "╒═══╤═════╤═════╤═════╤═══╕ ╒═══╤═════╤═════╤═════╤═══╕.T\n",
      "│   │ x   │ y   │ z   │ w │ │   │ x   │ y   │ z   │ w │\n",
      "├───┼─────┼─────┼─────┼───┤ ├───┼─────┼─────┼─────┼───┤\n",
      "│ a │ 0.2 │ 0.7 │ 0   │ 0 │ │ a │ 0.2 │ 0.7 │ 0   │ 0 │\n",
      "├───┼─────┼─────┼─────┼───┤*├───┼─────┼─────┼─────┼───┤\n",
      "│ b │ 0.9 │ 0   │ 0.5 │ 0 │ │ b │ 0.9 │ 0   │ 0.5 │ 0 │\n",
      "├───┼─────┼─────┼─────┼───┤ ├───┼─────┼─────┼─────┼───┤\n",
      "│ c │ 0.9 │ 0   │ 0   │ 0 │ │ c │ 0.9 │ 0   │ 0   │ 0 │\n",
      "╘═══╧═════╧═════╧═════╧═══╛ ╘═══╧═════╧═════╧═════╧═══╛\n",
      "                            \n",
      "                           \n",
      "\n",
      "╒═══╤══════════╤══════════╤══════════╕\n",
      "│   │ a        │ b        │ c        │\n",
      "├───┼──────────┼──────────┼──────────┤\n",
      "│ a │ 0.53 ... │ 0.18 ... │ 0.18 ... │\n",
      "├───┼──────────┼──────────┼──────────┤\n",
      "│ b │ 0.18 ... │ 1.06     │ 0.81     │\n",
      "├───┼──────────┼──────────┼──────────┤\n",
      "│ c │ 0.18 ... │ 0.81     │ 0.81     │\n",
      "╘═══╧══════════╧══════════╧══════════╛\n"
     ]
    },
    {
     "data": {
      "application/vnd.jupyter.widget-view+json": {
       "model_id": "171dba3a215d4c38bf83b6d25726756c",
       "version_major": 2,
       "version_minor": 0
      },
      "text/plain": [
       "VBox(children=(Figure(fig_margin={'top': 60, 'left': 60, 'bottom': 60, 'right': 60}, layout=Layout(height='300…"
      ]
     },
     "metadata": {},
     "output_type": "display_data"
    }
   ],
   "source": [
    "import numpy as np\n",
    "from bqplot import *\n",
    "from bqplot.marks import Graph\n",
    "from ipywidgets import Layout, VBox, HBox\n",
    "from relmath import * \n",
    "from relmath_bq import * \n",
    "\n",
    "State.s.push_env()\n",
    "\n",
    "with quote():\n",
    "    \n",
    "    M = Rel([\n",
    "                [0.2, 0.7, 0, 0],\n",
    "                [0.9,0,0.5,0],\n",
    "                [0.9,0,0,0]\n",
    "            ], \n",
    "            ['a','b','c'], \n",
    "            ['x','y','z','w'])\n",
    "\n",
    "    \n",
    "    E = M * M.T\n",
    "    \n",
    "print(E)\n",
    "print(E.simp())\n",
    "E.to_bq()"
   ]
  },
  {
   "cell_type": "code",
   "execution_count": 5,
   "metadata": {
    "scrolled": true
   },
   "outputs": [
    {
     "name": "stdout",
     "output_type": "stream",
     "text": [
      "╒════════╤══════════╤══════════╤══════════╤═══════════╕ ╒═══════════╤══════════╤══════════╤══════════╕\n",
      "│        │ cinema   │ musica   │ sport    │ scommesse │ │           │ Mario    │ Luigi    │ Bowser   │\n",
      "├────────┼──────────┼──────────┼──────────┼───────────┤ ├───────────┼──────────┼──────────┼──────────┤\n",
      "│ Mario  │ 0.60 ... │ 0.60 ... │ 0.0      │ 0.52 ...  │ │ cinema    │ 0.60 ... │ 0.83 ... │ 0.83 ... │\n",
      "├────────┼──────────┼──────────┼──────────┼───────────┤ ├───────────┼──────────┼──────────┼──────────┤\n",
      "│ Luigi  │ 0.83 ... │ 0.18 ... │ 0.46 ... │ 0.28 ...  │*│ musica    │ 0.60 ... │ 0.18 ... │ 0.0      │\n",
      "├────────┼──────────┼──────────┼──────────┼───────────┤ ├───────────┼──────────┼──────────┼──────────┤\n",
      "│ Bowser │ 0.83 ... │ 0.0      │ 0.0      │ 0.55 ...  │ │ sport     │ 0.0      │ 0.46 ... │ 0.0      │\n",
      "╘════════╧══════════╧══════════╧══════════╧═══════════╛ ├───────────┼──────────┼──────────┼──────────┤\n",
      "                                                        │ scommesse │ 0.52 ... │ 0.28 ... │ 0.55 ... │\n",
      "                                                        ╘═══════════╧══════════╧══════════╧══════════╛\n",
      "                                                       \n",
      "\n",
      "╒════════╤══════════╤══════════╤══════════╕\n",
      "│        │ Mario    │ Luigi    │ Bowser   │\n",
      "├────────┼──────────┼──────────┼──────────┤\n",
      "│ Mario  │ 1.00 ... │ 0.75 ... │ 0.79 ... │\n",
      "├────────┼──────────┼──────────┼──────────┤\n",
      "│ Luigi  │ 0.75 ... │ 1.0      │ 0.84 ... │\n",
      "├────────┼──────────┼──────────┼──────────┤\n",
      "│ Bowser │ 0.79 ... │ 0.84 ... │ 1.00 ... │\n",
      "╘════════╧══════════╧══════════╧══════════╛\n"
     ]
    },
    {
     "data": {
      "application/vnd.jupyter.widget-view+json": {
       "model_id": "034d14eb36094169aaa59801918f797d",
       "version_major": 2,
       "version_minor": 0
      },
      "text/plain": [
       "VBox(children=(Figure(fig_margin={'top': 60, 'left': 60, 'bottom': 60, 'right': 60}, layout=Layout(height='300…"
      ]
     },
     "metadata": {},
     "output_type": "display_data"
    }
   ],
   "source": [
    "import math\n",
    "\n",
    "def normalize(m):\n",
    "    for row in m.g:\n",
    "        norm = math.sqrt(sum((x.val**2 for x in row)))\n",
    "        for i in range(len(row)):\n",
    "            row[i] = RD(row[i].val / norm)\n",
    "\n",
    "with quote():\n",
    "\n",
    "    A = Rel([\n",
    "                [0.7, 0.7, 0, 0.6],\n",
    "                [0.9,0.2,0.5,0.3],\n",
    "                [0.9,0,0,0.6]\n",
    "            ], \n",
    "            ['Mario','Luigi','Bowser'], \n",
    "            ['cinema','musica','sport','scommesse'])\n",
    "    normalize(A)\n",
    "    \n",
    "    M = A * A.T\n",
    "    MAT = A * A.T.simp()\n",
    "    \n",
    "print(MAT)\n",
    "print(M.simp())\n",
    "M.to_bq()"
   ]
  },
  {
   "cell_type": "code",
   "execution_count": 6,
   "metadata": {},
   "outputs": [
    {
     "data": {
      "text/plain": [
       "0.9327379053088815"
      ]
     },
     "execution_count": 6,
     "metadata": {},
     "output_type": "execute_result"
    }
   ],
   "source": [
    "\n",
    "math.sqrt(0.87)"
   ]
  },
  {
   "cell_type": "code",
   "execution_count": 7,
   "metadata": {},
   "outputs": [
    {
     "data": {
      "text/plain": [
       "1.0"
      ]
     },
     "execution_count": 7,
     "metadata": {},
     "output_type": "execute_result"
    }
   ],
   "source": [
    "math.sqrt((0.5**2 )*4)"
   ]
  },
  {
   "cell_type": "markdown",
   "metadata": {},
   "source": [
    "x1^2 + x2^2 + x3^2 = 1"
   ]
  },
  {
   "cell_type": "code",
   "execution_count": null,
   "metadata": {},
   "outputs": [],
   "source": []
  }
 ],
 "metadata": {
  "kernelspec": {
   "display_name": "Python 3",
   "language": "python",
   "name": "python3"
  },
  "language_info": {
   "codemirror_mode": {
    "name": "ipython",
    "version": 3
   },
   "file_extension": ".py",
   "mimetype": "text/x-python",
   "name": "python",
   "nbconvert_exporter": "python",
   "pygments_lexer": "ipython3",
   "version": "3.5.2"
  },
  "toc": {
   "base_numbering": 1,
   "nav_menu": {},
   "number_sections": false,
   "sideBar": true,
   "skip_h1_title": false,
   "title_cell": "Table of Contents",
   "title_sidebar": "Contents",
   "toc_cell": false,
   "toc_position": {},
   "toc_section_display": true,
   "toc_window_display": false
  }
 },
 "nbformat": 4,
 "nbformat_minor": 2
}
